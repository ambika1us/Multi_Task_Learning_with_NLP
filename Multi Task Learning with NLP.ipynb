{
 "cells": [
  {
   "cell_type": "code",
   "execution_count": 20,
   "id": "a2c38ddc-da6f-43a8-9fd8-ba9ab0111e4c",
   "metadata": {},
   "outputs": [],
   "source": [
    "import pandas as pd\n",
    "import numpy as np\n",
    "from sklearn.preprocessing import LabelEncoder\n",
    "import warnings\n",
    "warnings.filterwarnings('ignore')\n",
    "\n",
    "import nltk\n",
    "from nltk.corpus import stopwords\n",
    "from tensorflow.keras.preprocessing.text import Tokenizer\n",
    "from tensorflow.keras.preprocessing.sequence import pad_sequences\n",
    "\n",
    "from tensorflow import keras\n",
    "import seaborn as sns\n",
    "from sklearn.metrics import confusion_matrix\n",
    "\n",
    "import matplotlib.pyplot as plt"
   ]
  },
  {
   "cell_type": "code",
   "execution_count": 22,
   "id": "d8d33270-8782-4b3c-b590-35795fa09a01",
   "metadata": {},
   "outputs": [],
   "source": [
    "emotion_df=pd.read_csv('Emotions.csv')\n",
    "violence_df=pd.read_csv('Violence.csv')\n",
    "hate_df=pd.read_csv('Hatespeech.csv')"
   ]
  },
  {
   "cell_type": "code",
   "execution_count": 23,
   "id": "3b791d70-56df-497a-891c-d11ccdc9de52",
   "metadata": {},
   "outputs": [
    {
     "data": {
      "text/html": [
       "<div>\n",
       "<style scoped>\n",
       "    .dataframe tbody tr th:only-of-type {\n",
       "        vertical-align: middle;\n",
       "    }\n",
       "\n",
       "    .dataframe tbody tr th {\n",
       "        vertical-align: top;\n",
       "    }\n",
       "\n",
       "    .dataframe thead th {\n",
       "        text-align: right;\n",
       "    }\n",
       "</style>\n",
       "<table border=\"1\" class=\"dataframe\">\n",
       "  <thead>\n",
       "    <tr style=\"text-align: right;\">\n",
       "      <th></th>\n",
       "      <th>Unnamed: 0</th>\n",
       "      <th>text</th>\n",
       "      <th>label</th>\n",
       "    </tr>\n",
       "  </thead>\n",
       "  <tbody>\n",
       "    <tr>\n",
       "      <th>0</th>\n",
       "      <td>0</td>\n",
       "      <td>i just feel really helpless and heavy hearted</td>\n",
       "      <td>4</td>\n",
       "    </tr>\n",
       "    <tr>\n",
       "      <th>1</th>\n",
       "      <td>1</td>\n",
       "      <td>ive enjoyed being able to slouch about relax a...</td>\n",
       "      <td>0</td>\n",
       "    </tr>\n",
       "    <tr>\n",
       "      <th>2</th>\n",
       "      <td>2</td>\n",
       "      <td>i gave up my internship with the dmrg and am f...</td>\n",
       "      <td>4</td>\n",
       "    </tr>\n",
       "    <tr>\n",
       "      <th>3</th>\n",
       "      <td>3</td>\n",
       "      <td>i dont know i feel so lost</td>\n",
       "      <td>0</td>\n",
       "    </tr>\n",
       "    <tr>\n",
       "      <th>4</th>\n",
       "      <td>4</td>\n",
       "      <td>i am a kindergarten teacher and i am thoroughl...</td>\n",
       "      <td>4</td>\n",
       "    </tr>\n",
       "  </tbody>\n",
       "</table>\n",
       "</div>"
      ],
      "text/plain": [
       "   Unnamed: 0                                               text  label\n",
       "0           0      i just feel really helpless and heavy hearted      4\n",
       "1           1  ive enjoyed being able to slouch about relax a...      0\n",
       "2           2  i gave up my internship with the dmrg and am f...      4\n",
       "3           3                         i dont know i feel so lost      0\n",
       "4           4  i am a kindergarten teacher and i am thoroughl...      4"
      ]
     },
     "execution_count": 23,
     "metadata": {},
     "output_type": "execute_result"
    }
   ],
   "source": [
    "emotion_df.head()"
   ]
  },
  {
   "cell_type": "code",
   "execution_count": 26,
   "id": "b190c7b5-4a2d-41cf-8b7e-818a738c2563",
   "metadata": {},
   "outputs": [
    {
     "data": {
      "text/html": [
       "<div>\n",
       "<style scoped>\n",
       "    .dataframe tbody tr th:only-of-type {\n",
       "        vertical-align: middle;\n",
       "    }\n",
       "\n",
       "    .dataframe tbody tr th {\n",
       "        vertical-align: top;\n",
       "    }\n",
       "\n",
       "    .dataframe thead th {\n",
       "        text-align: right;\n",
       "    }\n",
       "</style>\n",
       "<table border=\"1\" class=\"dataframe\">\n",
       "  <thead>\n",
       "    <tr style=\"text-align: right;\">\n",
       "      <th></th>\n",
       "      <th>Tweet_ID</th>\n",
       "      <th>tweet</th>\n",
       "      <th>type</th>\n",
       "    </tr>\n",
       "  </thead>\n",
       "  <tbody>\n",
       "    <tr>\n",
       "      <th>0</th>\n",
       "      <td>ID_0022DWKP</td>\n",
       "      <td>Had a dream i got raped last night. By a guy i...</td>\n",
       "      <td>sexual_violence</td>\n",
       "    </tr>\n",
       "    <tr>\n",
       "      <th>1</th>\n",
       "      <td>ID_00395QYM</td>\n",
       "      <td>he thought the word raped means sex and told m...</td>\n",
       "      <td>sexual_violence</td>\n",
       "    </tr>\n",
       "    <tr>\n",
       "      <th>2</th>\n",
       "      <td>ID_003EOSSF</td>\n",
       "      <td>She NOT TALKING TO ME I WAS RAPED BY 2 MEN 1 M...</td>\n",
       "      <td>sexual_violence</td>\n",
       "    </tr>\n",
       "    <tr>\n",
       "      <th>3</th>\n",
       "      <td>ID_004BBHOD</td>\n",
       "      <td>I was sexually abused for 3 years at age 4 to ...</td>\n",
       "      <td>sexual_violence</td>\n",
       "    </tr>\n",
       "    <tr>\n",
       "      <th>4</th>\n",
       "      <td>ID_004F7516</td>\n",
       "      <td>Chessy Prout can do better by telling the trut...</td>\n",
       "      <td>sexual_violence</td>\n",
       "    </tr>\n",
       "  </tbody>\n",
       "</table>\n",
       "</div>"
      ],
      "text/plain": [
       "      Tweet_ID                                              tweet  \\\n",
       "0  ID_0022DWKP  Had a dream i got raped last night. By a guy i...   \n",
       "1  ID_00395QYM  he thought the word raped means sex and told m...   \n",
       "2  ID_003EOSSF  She NOT TALKING TO ME I WAS RAPED BY 2 MEN 1 M...   \n",
       "3  ID_004BBHOD  I was sexually abused for 3 years at age 4 to ...   \n",
       "4  ID_004F7516  Chessy Prout can do better by telling the trut...   \n",
       "\n",
       "              type  \n",
       "0  sexual_violence  \n",
       "1  sexual_violence  \n",
       "2  sexual_violence  \n",
       "3  sexual_violence  \n",
       "4  sexual_violence  "
      ]
     },
     "execution_count": 26,
     "metadata": {},
     "output_type": "execute_result"
    }
   ],
   "source": [
    "violence_df.head()"
   ]
  },
  {
   "cell_type": "code",
   "execution_count": 28,
   "id": "6ad020cb-2353-4cd3-be65-c269c4d28ef1",
   "metadata": {},
   "outputs": [
    {
     "data": {
      "text/html": [
       "<div>\n",
       "<style scoped>\n",
       "    .dataframe tbody tr th:only-of-type {\n",
       "        vertical-align: middle;\n",
       "    }\n",
       "\n",
       "    .dataframe tbody tr th {\n",
       "        vertical-align: top;\n",
       "    }\n",
       "\n",
       "    .dataframe thead th {\n",
       "        text-align: right;\n",
       "    }\n",
       "</style>\n",
       "<table border=\"1\" class=\"dataframe\">\n",
       "  <thead>\n",
       "    <tr style=\"text-align: right;\">\n",
       "      <th></th>\n",
       "      <th>Unnamed: 0</th>\n",
       "      <th>count</th>\n",
       "      <th>hate_speech</th>\n",
       "      <th>offensive_language</th>\n",
       "      <th>neither</th>\n",
       "      <th>class</th>\n",
       "      <th>tweet</th>\n",
       "    </tr>\n",
       "  </thead>\n",
       "  <tbody>\n",
       "    <tr>\n",
       "      <th>0</th>\n",
       "      <td>0</td>\n",
       "      <td>3</td>\n",
       "      <td>0</td>\n",
       "      <td>0</td>\n",
       "      <td>3</td>\n",
       "      <td>2</td>\n",
       "      <td>!!! RT @mayasolovely: As a woman you shouldn't...</td>\n",
       "    </tr>\n",
       "    <tr>\n",
       "      <th>1</th>\n",
       "      <td>1</td>\n",
       "      <td>3</td>\n",
       "      <td>0</td>\n",
       "      <td>3</td>\n",
       "      <td>0</td>\n",
       "      <td>1</td>\n",
       "      <td>!!!!! RT @mleew17: boy dats cold...tyga dwn ba...</td>\n",
       "    </tr>\n",
       "    <tr>\n",
       "      <th>2</th>\n",
       "      <td>2</td>\n",
       "      <td>3</td>\n",
       "      <td>0</td>\n",
       "      <td>3</td>\n",
       "      <td>0</td>\n",
       "      <td>1</td>\n",
       "      <td>!!!!!!! RT @UrKindOfBrand Dawg!!!! RT @80sbaby...</td>\n",
       "    </tr>\n",
       "    <tr>\n",
       "      <th>3</th>\n",
       "      <td>3</td>\n",
       "      <td>3</td>\n",
       "      <td>0</td>\n",
       "      <td>2</td>\n",
       "      <td>1</td>\n",
       "      <td>1</td>\n",
       "      <td>!!!!!!!!! RT @C_G_Anderson: @viva_based she lo...</td>\n",
       "    </tr>\n",
       "    <tr>\n",
       "      <th>4</th>\n",
       "      <td>4</td>\n",
       "      <td>6</td>\n",
       "      <td>0</td>\n",
       "      <td>6</td>\n",
       "      <td>0</td>\n",
       "      <td>1</td>\n",
       "      <td>!!!!!!!!!!!!! RT @ShenikaRoberts: The shit you...</td>\n",
       "    </tr>\n",
       "  </tbody>\n",
       "</table>\n",
       "</div>"
      ],
      "text/plain": [
       "   Unnamed: 0  count  hate_speech  offensive_language  neither  class  \\\n",
       "0           0      3            0                   0        3      2   \n",
       "1           1      3            0                   3        0      1   \n",
       "2           2      3            0                   3        0      1   \n",
       "3           3      3            0                   2        1      1   \n",
       "4           4      6            0                   6        0      1   \n",
       "\n",
       "                                               tweet  \n",
       "0  !!! RT @mayasolovely: As a woman you shouldn't...  \n",
       "1  !!!!! RT @mleew17: boy dats cold...tyga dwn ba...  \n",
       "2  !!!!!!! RT @UrKindOfBrand Dawg!!!! RT @80sbaby...  \n",
       "3  !!!!!!!!! RT @C_G_Anderson: @viva_based she lo...  \n",
       "4  !!!!!!!!!!!!! RT @ShenikaRoberts: The shit you...  "
      ]
     },
     "execution_count": 28,
     "metadata": {},
     "output_type": "execute_result"
    }
   ],
   "source": [
    "hate_df.head()"
   ]
  },
  {
   "cell_type": "code",
   "execution_count": 30,
   "id": "04959255-3ff2-4c00-8579-42a91532f115",
   "metadata": {},
   "outputs": [],
   "source": [
    "emotion_df.drop(columns=['Unnamed: 0'], inplace=True)\n",
    "violence_df.drop(columns=['Tweet_ID'], inplace=True)\n",
    "hate_df=hate_df[['tweet','class']]"
   ]
  },
  {
   "cell_type": "code",
   "execution_count": 32,
   "id": "2d8f8a8f-9127-43a5-90a5-dba1d5def161",
   "metadata": {},
   "outputs": [
    {
     "data": {
      "text/plain": [
       "(Index(['text', 'label'], dtype='object'),\n",
       " Index(['tweet', 'type'], dtype='object'),\n",
       " Index(['tweet', 'class'], dtype='object'))"
      ]
     },
     "execution_count": 32,
     "metadata": {},
     "output_type": "execute_result"
    }
   ],
   "source": [
    "emotion_df.columns,violence_df.columns,hate_df.columns"
   ]
  },
  {
   "cell_type": "code",
   "execution_count": 34,
   "id": "aeff3952-0aeb-466b-82b2-27dca1e23b34",
   "metadata": {},
   "outputs": [],
   "source": [
    "violence_df.rename(columns={'tweet':'text','type':'label'},inplace=True)\n",
    "hate_df.rename(columns={'tweet':'text','class':'label'},inplace=True)"
   ]
  },
  {
   "cell_type": "code",
   "execution_count": 36,
   "id": "e7150122-436c-48b5-891c-7c71ea5118fa",
   "metadata": {},
   "outputs": [
    {
     "data": {
      "text/plain": [
       "(Index(['text', 'label'], dtype='object'),\n",
       " Index(['text', 'label'], dtype='object'),\n",
       " Index(['text', 'label'], dtype='object'))"
      ]
     },
     "execution_count": 36,
     "metadata": {},
     "output_type": "execute_result"
    }
   ],
   "source": [
    "emotion_df.columns,violence_df.columns,hate_df.columns"
   ]
  },
  {
   "cell_type": "code",
   "execution_count": 38,
   "id": "827ed36b-b1f0-4652-89e6-a955c2268fbb",
   "metadata": {},
   "outputs": [
    {
     "data": {
      "text/plain": [
       "(text     0\n",
       " label    0\n",
       " dtype: int64,\n",
       " text     0\n",
       " label    0\n",
       " dtype: int64,\n",
       " text     0\n",
       " label    0\n",
       " dtype: int64)"
      ]
     },
     "execution_count": 38,
     "metadata": {},
     "output_type": "execute_result"
    }
   ],
   "source": [
    "emotion_df.isna().sum(), violence_df.isna().sum(), hate_df.isna().sum()"
   ]
  },
  {
   "cell_type": "code",
   "execution_count": 40,
   "id": "7774ab9e-68bd-4695-a366-d561fcdaca35",
   "metadata": {},
   "outputs": [
    {
     "data": {
      "text/plain": [
       "((416809, 2), (39650, 2), (24783, 2))"
      ]
     },
     "execution_count": 40,
     "metadata": {},
     "output_type": "execute_result"
    }
   ],
   "source": [
    "emotion_df.shape, violence_df.shape, hate_df.shape"
   ]
  },
  {
   "cell_type": "code",
   "execution_count": 42,
   "id": "8117e64d-7f6e-40ac-b90c-70aba8290178",
   "metadata": {},
   "outputs": [
    {
     "data": {
      "text/plain": [
       "label\n",
       "1    141067\n",
       "0    121187\n",
       "3     57317\n",
       "4     47712\n",
       "2     34554\n",
       "5     14972\n",
       "Name: count, dtype: int64"
      ]
     },
     "execution_count": 42,
     "metadata": {},
     "output_type": "execute_result"
    }
   ],
   "source": [
    "emotion_df['label'].value_counts()"
   ]
  },
  {
   "cell_type": "code",
   "execution_count": 44,
   "id": "51ad146c-1f4d-4176-8c55-1e2e5d51bcb3",
   "metadata": {},
   "outputs": [
    {
     "data": {
      "text/plain": [
       "label\n",
       "sexual_violence                 32648\n",
       "Physical_violence                5946\n",
       "emotional_violence                651\n",
       "economic_violence                 217\n",
       "Harmful_Traditional_practice      188\n",
       "Name: count, dtype: int64"
      ]
     },
     "execution_count": 44,
     "metadata": {},
     "output_type": "execute_result"
    }
   ],
   "source": [
    "violence_df['label'].value_counts()"
   ]
  },
  {
   "cell_type": "code",
   "execution_count": 46,
   "id": "52102b6d-bddb-4ef8-8355-5f1088f6903b",
   "metadata": {},
   "outputs": [
    {
     "data": {
      "text/plain": [
       "label\n",
       "1    19190\n",
       "2     4163\n",
       "0     1430\n",
       "Name: count, dtype: int64"
      ]
     },
     "execution_count": 46,
     "metadata": {},
     "output_type": "execute_result"
    }
   ],
   "source": [
    "hate_df['label'].value_counts()"
   ]
  },
  {
   "cell_type": "code",
   "execution_count": 48,
   "id": "79ff3991-62b5-47c0-bdb4-0acf5b3f5065",
   "metadata": {},
   "outputs": [],
   "source": [
    "e_df=pd.DataFrame()\n",
    "for i in  range(len(emotion_df['label'].unique())):\n",
    "    subset=emotion_df[emotion_df['label']==i].sample(n=2000,random_state=42)\n",
    "    e_df=pd.concat([e_df,subset])"
   ]
  },
  {
   "cell_type": "code",
   "execution_count": 50,
   "id": "8d8056b0-06b8-4f4f-9990-28335044ad71",
   "metadata": {},
   "outputs": [
    {
     "data": {
      "text/plain": [
       "(12000, 2)"
      ]
     },
     "execution_count": 50,
     "metadata": {},
     "output_type": "execute_result"
    }
   ],
   "source": [
    "e_df.shape"
   ]
  },
  {
   "cell_type": "code",
   "execution_count": 52,
   "id": "913b67ca-e851-46d6-bd56-950fa755ed01",
   "metadata": {},
   "outputs": [],
   "source": [
    "emotion_df=e_df.copy()"
   ]
  },
  {
   "cell_type": "code",
   "execution_count": 54,
   "id": "8c70c8b1-b331-4bff-ac5d-494c96dc385c",
   "metadata": {},
   "outputs": [
    {
     "data": {
      "text/plain": [
       "label\n",
       "0    2000\n",
       "1    2000\n",
       "2    2000\n",
       "3    2000\n",
       "4    2000\n",
       "5    2000\n",
       "Name: count, dtype: int64"
      ]
     },
     "execution_count": 54,
     "metadata": {},
     "output_type": "execute_result"
    }
   ],
   "source": [
    "emotion_df['label'].value_counts()"
   ]
  },
  {
   "cell_type": "code",
   "execution_count": 56,
   "id": "42c868cc-7d4a-444f-976d-55f9b384974a",
   "metadata": {},
   "outputs": [],
   "source": [
    "sexual_violence=violence_df[violence_df['label']=='sexual_violence'].sample(n=4998, random_state=42)\n",
    "violence_df=violence_df[violence_df['label']!='sexual_violence']"
   ]
  },
  {
   "cell_type": "code",
   "execution_count": 58,
   "id": "ccb1b109-b56a-45e1-aaae-8c0e5b3005f4",
   "metadata": {},
   "outputs": [],
   "source": [
    "violence_df=pd.concat([violence_df,sexual_violence], axis=0)"
   ]
  },
  {
   "cell_type": "code",
   "execution_count": 60,
   "id": "5327b9a7-0897-4b03-8c63-bf36f5166024",
   "metadata": {},
   "outputs": [
    {
     "data": {
      "text/plain": [
       "label\n",
       "Physical_violence               5946\n",
       "sexual_violence                 4998\n",
       "emotional_violence               651\n",
       "economic_violence                217\n",
       "Harmful_Traditional_practice     188\n",
       "Name: count, dtype: int64"
      ]
     },
     "execution_count": 60,
     "metadata": {},
     "output_type": "execute_result"
    }
   ],
   "source": [
    "violence_df['label'].value_counts()"
   ]
  },
  {
   "cell_type": "code",
   "execution_count": 62,
   "id": "ab794d4b-8120-47e8-a801-8bc9ca9568da",
   "metadata": {},
   "outputs": [],
   "source": [
    "offensive_speech=hate_df[hate_df['label']==1].sample(n=6407, random_state=42)\n",
    "hate_df=hate_df[hate_df['label']!=1]"
   ]
  },
  {
   "cell_type": "code",
   "execution_count": 64,
   "id": "ad313533-c42a-4da1-b138-100a37a1f42a",
   "metadata": {},
   "outputs": [],
   "source": [
    "hate_df=pd.concat([offensive_speech,hate_df], axis=0)"
   ]
  },
  {
   "cell_type": "code",
   "execution_count": 66,
   "id": "ac39b567-8a85-4b23-9d4c-1e0d1ce85e58",
   "metadata": {},
   "outputs": [
    {
     "data": {
      "text/plain": [
       "label\n",
       "1    6407\n",
       "2    4163\n",
       "0    1430\n",
       "Name: count, dtype: int64"
      ]
     },
     "execution_count": 66,
     "metadata": {},
     "output_type": "execute_result"
    }
   ],
   "source": [
    "hate_df['label'].value_counts()"
   ]
  },
  {
   "cell_type": "code",
   "execution_count": 68,
   "id": "305220d7-7e3e-4355-aaa1-c3e18863c21d",
   "metadata": {},
   "outputs": [
    {
     "data": {
      "text/plain": [
       "((12000, 2), (12000, 2), (12000, 2))"
      ]
     },
     "execution_count": 68,
     "metadata": {},
     "output_type": "execute_result"
    }
   ],
   "source": [
    "hate_df.shape,emotion_df.shape, violence_df.shape"
   ]
  },
  {
   "cell_type": "code",
   "execution_count": 70,
   "id": "9009cdf8-8946-4526-89f1-b2df53221573",
   "metadata": {},
   "outputs": [],
   "source": [
    "label_encoder=LabelEncoder()\n",
    "violence_df['label']=label_encoder.fit_transform(violence_df['label'])"
   ]
  },
  {
   "cell_type": "code",
   "execution_count": 72,
   "id": "f4ae7213-f089-4fb7-a9c8-f50debbebd1b",
   "metadata": {},
   "outputs": [
    {
     "data": {
      "text/html": [
       "<div>\n",
       "<style scoped>\n",
       "    .dataframe tbody tr th:only-of-type {\n",
       "        vertical-align: middle;\n",
       "    }\n",
       "\n",
       "    .dataframe tbody tr th {\n",
       "        vertical-align: top;\n",
       "    }\n",
       "\n",
       "    .dataframe thead th {\n",
       "        text-align: right;\n",
       "    }\n",
       "</style>\n",
       "<table border=\"1\" class=\"dataframe\">\n",
       "  <thead>\n",
       "    <tr style=\"text-align: right;\">\n",
       "      <th></th>\n",
       "      <th>text</th>\n",
       "      <th>label</th>\n",
       "    </tr>\n",
       "  </thead>\n",
       "  <tbody>\n",
       "    <tr>\n",
       "      <th>6</th>\n",
       "      <td>My Husband Beats Me Frequently, Wife Tells Cou...</td>\n",
       "      <td>1</td>\n",
       "    </tr>\n",
       "    <tr>\n",
       "      <th>29</th>\n",
       "      <td>Best thing for me to do, is remain silent when...</td>\n",
       "      <td>1</td>\n",
       "    </tr>\n",
       "    <tr>\n",
       "      <th>30</th>\n",
       "      <td>My husband will never beat me, Bambam denies r...</td>\n",
       "      <td>1</td>\n",
       "    </tr>\n",
       "    <tr>\n",
       "      <th>33</th>\n",
       "      <td>theyre like, i just wanna be a baby maker with...</td>\n",
       "      <td>1</td>\n",
       "    </tr>\n",
       "    <tr>\n",
       "      <th>35</th>\n",
       "      <td>I was in England for a week, the longest I’ve ...</td>\n",
       "      <td>1</td>\n",
       "    </tr>\n",
       "    <tr>\n",
       "      <th>...</th>\n",
       "      <td>...</td>\n",
       "      <td>...</td>\n",
       "    </tr>\n",
       "    <tr>\n",
       "      <th>25368</th>\n",
       "      <td>i was 13 and had just been raped. the police t...</td>\n",
       "      <td>4</td>\n",
       "    </tr>\n",
       "    <tr>\n",
       "      <th>13942</th>\n",
       "      <td>So bad.She/he don't know how blessed they are ...</td>\n",
       "      <td>4</td>\n",
       "    </tr>\n",
       "    <tr>\n",
       "      <th>34704</th>\n",
       "      <td>I was Hide and he was Yoshi. We were Hideyoshi...</td>\n",
       "      <td>4</td>\n",
       "    </tr>\n",
       "    <tr>\n",
       "      <th>18626</th>\n",
       "      <td>It actually sickens me that he's so smug abt '...</td>\n",
       "      <td>4</td>\n",
       "    </tr>\n",
       "    <tr>\n",
       "      <th>36756</th>\n",
       "      <td>without any fear of being raped. Bcaz I know m...</td>\n",
       "      <td>4</td>\n",
       "    </tr>\n",
       "  </tbody>\n",
       "</table>\n",
       "<p>12000 rows × 2 columns</p>\n",
       "</div>"
      ],
      "text/plain": [
       "                                                    text  label\n",
       "6      My Husband Beats Me Frequently, Wife Tells Cou...      1\n",
       "29     Best thing for me to do, is remain silent when...      1\n",
       "30     My husband will never beat me, Bambam denies r...      1\n",
       "33     theyre like, i just wanna be a baby maker with...      1\n",
       "35     I was in England for a week, the longest I’ve ...      1\n",
       "...                                                  ...    ...\n",
       "25368  i was 13 and had just been raped. the police t...      4\n",
       "13942  So bad.She/he don't know how blessed they are ...      4\n",
       "34704  I was Hide and he was Yoshi. We were Hideyoshi...      4\n",
       "18626  It actually sickens me that he's so smug abt '...      4\n",
       "36756  without any fear of being raped. Bcaz I know m...      4\n",
       "\n",
       "[12000 rows x 2 columns]"
      ]
     },
     "execution_count": 72,
     "metadata": {},
     "output_type": "execute_result"
    }
   ],
   "source": [
    "violence_df"
   ]
  },
  {
   "cell_type": "code",
   "execution_count": 74,
   "id": "513c2270-e643-4dea-852f-b7f0ad9b7e90",
   "metadata": {},
   "outputs": [
    {
     "data": {
      "text/plain": [
       "array([1, 3, 0, 2, 4])"
      ]
     },
     "execution_count": 74,
     "metadata": {},
     "output_type": "execute_result"
    }
   ],
   "source": [
    "violence_df['label'].unique()"
   ]
  },
  {
   "cell_type": "code",
   "execution_count": 76,
   "id": "2557a517-abfe-458b-8909-54e3a3f13139",
   "metadata": {},
   "outputs": [
    {
     "name": "stderr",
     "output_type": "stream",
     "text": [
      "[nltk_data] Downloading package punkt_tab to\n",
      "[nltk_data]     C:\\Users\\ambik\\AppData\\Roaming\\nltk_data...\n",
      "[nltk_data]   Package punkt_tab is already up-to-date!\n"
     ]
    },
    {
     "data": {
      "text/plain": [
       "True"
      ]
     },
     "execution_count": 76,
     "metadata": {},
     "output_type": "execute_result"
    }
   ],
   "source": [
    "import nltk\n",
    "nltk.download('punkt_tab')"
   ]
  },
  {
   "cell_type": "code",
   "execution_count": 78,
   "id": "86f75b65-1052-40df-a871-efb6ae9ff2a3",
   "metadata": {},
   "outputs": [
    {
     "name": "stderr",
     "output_type": "stream",
     "text": [
      "[nltk_data] Downloading package stopwords to\n",
      "[nltk_data]     C:\\Users\\ambik\\AppData\\Roaming\\nltk_data...\n",
      "[nltk_data]   Package stopwords is already up-to-date!\n",
      "[nltk_data] Downloading package punkt to\n",
      "[nltk_data]     C:\\Users\\ambik\\AppData\\Roaming\\nltk_data...\n",
      "[nltk_data]   Package punkt is already up-to-date!\n"
     ]
    },
    {
     "data": {
      "text/plain": [
       "True"
      ]
     },
     "execution_count": 78,
     "metadata": {},
     "output_type": "execute_result"
    }
   ],
   "source": [
    "nltk.download('stopwords')\n",
    "nltk.download('punkt')"
   ]
  },
  {
   "cell_type": "code",
   "execution_count": 80,
   "id": "70eb6f74-a790-427d-89c0-5f75f063abb1",
   "metadata": {},
   "outputs": [],
   "source": [
    "stop_words=set(stopwords.words('english'))"
   ]
  },
  {
   "cell_type": "code",
   "execution_count": 82,
   "id": "7fdb0df7-b8e3-4573-b645-1bb75cab6e31",
   "metadata": {},
   "outputs": [
    {
     "data": {
      "text/plain": [
       "179"
      ]
     },
     "execution_count": 82,
     "metadata": {},
     "output_type": "execute_result"
    }
   ],
   "source": [
    "len(stop_words)"
   ]
  },
  {
   "cell_type": "code",
   "execution_count": 84,
   "id": "1e764f7c-8d1e-4836-840c-002316d1e87a",
   "metadata": {},
   "outputs": [],
   "source": [
    "def remove_stopwords(text):\n",
    "    all_words=nltk.word_tokenize(text)\n",
    "    filtered_words=[word for word in all_words if word.lower() not in stop_words]\n",
    "    return ' '.join(filtered_words)"
   ]
  },
  {
   "cell_type": "code",
   "execution_count": 86,
   "id": "0e488e9f-052e-47e5-b939-26fd52a1a341",
   "metadata": {},
   "outputs": [],
   "source": [
    "emotion_df['text']=emotion_df['text'].apply(remove_stopwords)\n",
    "violence_df['text']=violence_df['text'].apply(remove_stopwords)\n",
    "hate_df['text']=hate_df['text'].apply(remove_stopwords)"
   ]
  },
  {
   "cell_type": "code",
   "execution_count": 87,
   "id": "75f8be97-f2df-481a-9f4f-05d445caf705",
   "metadata": {},
   "outputs": [
    {
     "data": {
      "text/html": [
       "<div>\n",
       "<style scoped>\n",
       "    .dataframe tbody tr th:only-of-type {\n",
       "        vertical-align: middle;\n",
       "    }\n",
       "\n",
       "    .dataframe tbody tr th {\n",
       "        vertical-align: top;\n",
       "    }\n",
       "\n",
       "    .dataframe thead th {\n",
       "        text-align: right;\n",
       "    }\n",
       "</style>\n",
       "<table border=\"1\" class=\"dataframe\">\n",
       "  <thead>\n",
       "    <tr style=\"text-align: right;\">\n",
       "      <th></th>\n",
       "      <th>text</th>\n",
       "      <th>label</th>\n",
       "    </tr>\n",
       "  </thead>\n",
       "  <tbody>\n",
       "    <tr>\n",
       "      <th>133243</th>\n",
       "      <td>ive learned surround women lift leave feeling ...</td>\n",
       "      <td>0</td>\n",
       "    </tr>\n",
       "    <tr>\n",
       "      <th>88501</th>\n",
       "      <td>already feel crappy upset situation doesnt help</td>\n",
       "      <td>0</td>\n",
       "    </tr>\n",
       "    <tr>\n",
       "      <th>131379</th>\n",
       "      <td>feel like lost mourned moved past tears relati...</td>\n",
       "      <td>0</td>\n",
       "    </tr>\n",
       "    <tr>\n",
       "      <th>148369</th>\n",
       "      <td>could write whole lot im feeling crappy dont t...</td>\n",
       "      <td>0</td>\n",
       "    </tr>\n",
       "    <tr>\n",
       "      <th>134438</th>\n",
       "      <td>always seem feel inadequate</td>\n",
       "      <td>0</td>\n",
       "    </tr>\n",
       "  </tbody>\n",
       "</table>\n",
       "</div>"
      ],
      "text/plain": [
       "                                                     text  label\n",
       "133243  ive learned surround women lift leave feeling ...      0\n",
       "88501     already feel crappy upset situation doesnt help      0\n",
       "131379  feel like lost mourned moved past tears relati...      0\n",
       "148369  could write whole lot im feeling crappy dont t...      0\n",
       "134438                        always seem feel inadequate      0"
      ]
     },
     "execution_count": 87,
     "metadata": {},
     "output_type": "execute_result"
    }
   ],
   "source": [
    "emotion_df.head()"
   ]
  },
  {
   "cell_type": "code",
   "execution_count": 88,
   "id": "bdda6239-19fa-4828-ab94-81b03ac5736a",
   "metadata": {},
   "outputs": [],
   "source": [
    "tokenizer=Tokenizer()"
   ]
  },
  {
   "cell_type": "code",
   "execution_count": 89,
   "id": "cbed63d4-4fb4-4a42-bf3d-f1722cc619f8",
   "metadata": {},
   "outputs": [],
   "source": [
    "tokenizer.fit_on_texts(pd.concat([emotion_df['text'],violence_df['text'],hate_df['text']]))"
   ]
  },
  {
   "cell_type": "code",
   "execution_count": 90,
   "id": "bfcdbcd9-fd80-4755-b3cf-e6e2efc1856d",
   "metadata": {},
   "outputs": [],
   "source": [
    "emotion_sequence=tokenizer.texts_to_sequences(emotion_df['text'])\n",
    "violence_sequence=tokenizer.texts_to_sequences(violence_df['text'])\n",
    "hate_sequence=tokenizer.texts_to_sequences(hate_df['text'])"
   ]
  },
  {
   "cell_type": "code",
   "execution_count": 95,
   "id": "707e670d-3952-4fa2-a450-3134f5fe109f",
   "metadata": {},
   "outputs": [
    {
     "data": {
      "text/plain": [
       "'feel like lost mourned moved past tears relationship'"
      ]
     },
     "execution_count": 95,
     "metadata": {},
     "output_type": "execute_result"
    }
   ],
   "source": [
    "emotion_df['text'].iloc[2]"
   ]
  },
  {
   "cell_type": "code",
   "execution_count": 97,
   "id": "5eeecbf0-b48b-463a-8741-83aaec36928d",
   "metadata": {},
   "outputs": [
    {
     "data": {
      "text/plain": [
       "[[1, 5, 321, 11854, 1207, 422, 1093, 385]]"
      ]
     },
     "execution_count": 97,
     "metadata": {},
     "output_type": "execute_result"
    }
   ],
   "source": [
    "emotion_sequence[2:3]"
   ]
  },
  {
   "cell_type": "code",
   "execution_count": 100,
   "id": "15b5c8ea-8dad-4e1b-aa41-aef6fe067174",
   "metadata": {},
   "outputs": [],
   "source": [
    "max_length=50\n",
    "emotion_padded=pad_sequences(emotion_sequence,maxlen=max_length,padding='post')\n",
    "violence_padded=pad_sequences(violence_sequence,maxlen=max_length,padding='post')\n",
    "hate_padded=pad_sequences(hate_sequence,maxlen=max_length,padding='post')"
   ]
  },
  {
   "cell_type": "code",
   "execution_count": 102,
   "id": "87a251dc-6d5d-4f19-acf6-52fc48c4d8ef",
   "metadata": {},
   "outputs": [
    {
     "data": {
      "text/plain": [
       "array([[    1,     5,   321, 11854,  1207,   422,  1093,   385,     0,\n",
       "            0,     0,     0,     0,     0,     0,     0,     0,     0,\n",
       "            0,     0,     0,     0,     0,     0,     0,     0,     0,\n",
       "            0,     0,     0,     0,     0,     0,     0,     0,     0,\n",
       "            0,     0,     0,     0,     0,     0,     0,     0,     0,\n",
       "            0,     0,     0,     0,     0]])"
      ]
     },
     "execution_count": 102,
     "metadata": {},
     "output_type": "execute_result"
    }
   ],
   "source": [
    "emotion_padded[2:3]"
   ]
  },
  {
   "cell_type": "code",
   "execution_count": 104,
   "id": "17d467da-95d6-43cf-a419-04b4d42d9960",
   "metadata": {},
   "outputs": [],
   "source": [
    "emotion_labels=np.array(emotion_df['label'])\n",
    "violence_labels=np.array(violence_df['label'])\n",
    "hate_labels=np.array(hate_df['label'])"
   ]
  },
  {
   "cell_type": "code",
   "execution_count": 106,
   "id": "6a0b86a1-e6b4-48a5-aab7-0d8b8917ad8b",
   "metadata": {},
   "outputs": [],
   "source": [
    "hate_input=hate_padded\n",
    "violence_input=violence_padded\n",
    "emotion_input=emotion_padded"
   ]
  },
  {
   "cell_type": "code",
   "execution_count": 108,
   "id": "a14a99c6-8b56-4d7d-b838-c5266c22070f",
   "metadata": {},
   "outputs": [],
   "source": [
    "emotion_input_layer=keras.layers.Input(shape=(max_length,),name='emotion_input')\n",
    "violence_input_layer=keras.layers.Input(shape=(max_length,),name='violence_input')\n",
    "hate_input_layer=keras.layers.Input(shape=(max_length,),name='hate_input')"
   ]
  },
  {
   "cell_type": "code",
   "execution_count": 110,
   "id": "38cb58f8-8c72-4989-9629-2bb611304afe",
   "metadata": {},
   "outputs": [],
   "source": [
    "embedding_layer=keras.layers.Embedding(input_dim=len(tokenizer.word_index)+1,output_dim=128)"
   ]
  },
  {
   "cell_type": "code",
   "execution_count": 112,
   "id": "e6056755-6711-405a-97b2-400026e26a0f",
   "metadata": {},
   "outputs": [],
   "source": [
    "emotion_embedding=embedding_layer(emotion_input_layer)\n",
    "violence_embedding=embedding_layer(violence_input_layer)\n",
    "hate_embedding=embedding_layer(hate_input_layer)"
   ]
  },
  {
   "cell_type": "code",
   "execution_count": 114,
   "id": "e1adf7d7-fc50-4041-b9c8-f6fd09dcafc5",
   "metadata": {},
   "outputs": [],
   "source": [
    "shared_lstm=keras.layers.LSTM(64,return_sequences=True)"
   ]
  },
  {
   "cell_type": "code",
   "execution_count": 116,
   "id": "e9ac5b5c-033e-4419-b190-a8df6f203d7e",
   "metadata": {},
   "outputs": [],
   "source": [
    "emotion_lstm=shared_lstm(emotion_embedding)\n",
    "violence_lstm=shared_lstm(violence_embedding)\n",
    "hate_lstm=shared_lstm(hate_embedding)"
   ]
  },
  {
   "cell_type": "code",
   "execution_count": 118,
   "id": "7374b300-cb21-40b6-98b9-3c813d69ab40",
   "metadata": {},
   "outputs": [],
   "source": [
    "shared_pooling=keras.layers.GlobalAveragePooling1D()\n",
    "shared_dropout=keras.layers.Dropout(0.5)"
   ]
  },
  {
   "cell_type": "code",
   "execution_count": 120,
   "id": "d2ba58c2-2f43-4502-aa22-4b2d2a8d6b33",
   "metadata": {},
   "outputs": [],
   "source": [
    "emotion_features=shared_dropout(shared_pooling(emotion_lstm))\n",
    "violence_features=shared_dropout(shared_pooling(violence_lstm))\n",
    "hate_features=shared_dropout(shared_pooling(hate_lstm))"
   ]
  },
  {
   "cell_type": "code",
   "execution_count": 122,
   "id": "1732b1fd-01d4-421f-8905-370e69157de5",
   "metadata": {},
   "outputs": [
    {
     "data": {
      "text/plain": [
       "(6, 5, 3)"
      ]
     },
     "execution_count": 122,
     "metadata": {},
     "output_type": "execute_result"
    }
   ],
   "source": [
    "len(emotion_df['label'].unique()), len(violence_df['label'].unique()), len(hate_df['label'].unique())"
   ]
  },
  {
   "cell_type": "code",
   "execution_count": 124,
   "id": "46bf9cd9-d155-45bc-8fce-ce2ce03c43e3",
   "metadata": {},
   "outputs": [],
   "source": [
    "emotion_output=keras.layers.Dense(6,activation='softmax', name='emotion_output')(emotion_features)\n",
    "violence_output=keras.layers.Dense(5,activation='softmax', name='violence_output')(violence_features)\n",
    "hate_output=keras.layers.Dense(3,activation='softmax',name='hate_output')(hate_features)"
   ]
  },
  {
   "cell_type": "code",
   "execution_count": 126,
   "id": "310acb0e-bef1-4887-8174-6d0cd131f451",
   "metadata": {},
   "outputs": [],
   "source": [
    "model=keras.models.Model(inputs=[emotion_input_layer,violence_input_layer,hate_input_layer],\n",
    "                       outputs=[emotion_output,violence_output,hate_output])\n",
    "\n",
    "model.compile(optimizer='adam',\n",
    "             loss={'emotion_output':'sparse_categorical_crossentropy',\n",
    "                  'violence_output':'sparse_categorical_crossentropy',\n",
    "                  'hate_output':'sparse_categorical_crossentropy'\n",
    "                  },\n",
    "             metrics={'emotion_output':'accuracy',\n",
    "                     'violence_output':'accuracy',\n",
    "                     'hate_output':'accuracy'\n",
    "                     })"
   ]
  },
  {
   "cell_type": "code",
   "execution_count": 128,
   "id": "8a9447e4-14ab-4e5a-b84f-dc68bc516471",
   "metadata": {},
   "outputs": [
    {
     "data": {
      "text/html": [
       "<pre style=\"white-space:pre;overflow-x:auto;line-height:normal;font-family:Menlo,'DejaVu Sans Mono',consolas,'Courier New',monospace\"><span style=\"font-weight: bold\">Model: \"functional\"</span>\n",
       "</pre>\n"
      ],
      "text/plain": [
       "\u001b[1mModel: \"functional\"\u001b[0m\n"
      ]
     },
     "metadata": {},
     "output_type": "display_data"
    },
    {
     "data": {
      "text/html": [
       "<pre style=\"white-space:pre;overflow-x:auto;line-height:normal;font-family:Menlo,'DejaVu Sans Mono',consolas,'Courier New',monospace\">┏━━━━━━━━━━━━━━━━━━━━━┳━━━━━━━━━━━━━━━━━━━┳━━━━━━━━━━━━┳━━━━━━━━━━━━━━━━━━━┓\n",
       "┃<span style=\"font-weight: bold\"> Layer (type)        </span>┃<span style=\"font-weight: bold\"> Output Shape      </span>┃<span style=\"font-weight: bold\">    Param # </span>┃<span style=\"font-weight: bold\"> Connected to      </span>┃\n",
       "┡━━━━━━━━━━━━━━━━━━━━━╇━━━━━━━━━━━━━━━━━━━╇━━━━━━━━━━━━╇━━━━━━━━━━━━━━━━━━━┩\n",
       "│ emotion_input       │ (<span style=\"color: #00d7ff; text-decoration-color: #00d7ff\">None</span>, <span style=\"color: #00af00; text-decoration-color: #00af00\">50</span>)        │          <span style=\"color: #00af00; text-decoration-color: #00af00\">0</span> │ -                 │\n",
       "│ (<span style=\"color: #0087ff; text-decoration-color: #0087ff\">InputLayer</span>)        │                   │            │                   │\n",
       "├─────────────────────┼───────────────────┼────────────┼───────────────────┤\n",
       "│ violence_input      │ (<span style=\"color: #00d7ff; text-decoration-color: #00d7ff\">None</span>, <span style=\"color: #00af00; text-decoration-color: #00af00\">50</span>)        │          <span style=\"color: #00af00; text-decoration-color: #00af00\">0</span> │ -                 │\n",
       "│ (<span style=\"color: #0087ff; text-decoration-color: #0087ff\">InputLayer</span>)        │                   │            │                   │\n",
       "├─────────────────────┼───────────────────┼────────────┼───────────────────┤\n",
       "│ hate_input          │ (<span style=\"color: #00d7ff; text-decoration-color: #00d7ff\">None</span>, <span style=\"color: #00af00; text-decoration-color: #00af00\">50</span>)        │          <span style=\"color: #00af00; text-decoration-color: #00af00\">0</span> │ -                 │\n",
       "│ (<span style=\"color: #0087ff; text-decoration-color: #0087ff\">InputLayer</span>)        │                   │            │                   │\n",
       "├─────────────────────┼───────────────────┼────────────┼───────────────────┤\n",
       "│ embedding           │ (<span style=\"color: #00d7ff; text-decoration-color: #00d7ff\">None</span>, <span style=\"color: #00af00; text-decoration-color: #00af00\">50</span>, <span style=\"color: #00af00; text-decoration-color: #00af00\">128</span>)   │  <span style=\"color: #00af00; text-decoration-color: #00af00\">5,350,656</span> │ emotion_input[<span style=\"color: #00af00; text-decoration-color: #00af00\">0</span>]… │\n",
       "│ (<span style=\"color: #0087ff; text-decoration-color: #0087ff\">Embedding</span>)         │                   │            │ violence_input[<span style=\"color: #00af00; text-decoration-color: #00af00\">0</span>… │\n",
       "│                     │                   │            │ hate_input[<span style=\"color: #00af00; text-decoration-color: #00af00\">0</span>][<span style=\"color: #00af00; text-decoration-color: #00af00\">0</span>]  │\n",
       "├─────────────────────┼───────────────────┼────────────┼───────────────────┤\n",
       "│ lstm (<span style=\"color: #0087ff; text-decoration-color: #0087ff\">LSTM</span>)         │ (<span style=\"color: #00d7ff; text-decoration-color: #00d7ff\">None</span>, <span style=\"color: #00af00; text-decoration-color: #00af00\">50</span>, <span style=\"color: #00af00; text-decoration-color: #00af00\">64</span>)    │     <span style=\"color: #00af00; text-decoration-color: #00af00\">49,408</span> │ embedding[<span style=\"color: #00af00; text-decoration-color: #00af00\">0</span>][<span style=\"color: #00af00; text-decoration-color: #00af00\">0</span>],  │\n",
       "│                     │                   │            │ embedding[<span style=\"color: #00af00; text-decoration-color: #00af00\">1</span>][<span style=\"color: #00af00; text-decoration-color: #00af00\">0</span>],  │\n",
       "│                     │                   │            │ embedding[<span style=\"color: #00af00; text-decoration-color: #00af00\">2</span>][<span style=\"color: #00af00; text-decoration-color: #00af00\">0</span>]   │\n",
       "├─────────────────────┼───────────────────┼────────────┼───────────────────┤\n",
       "│ global_average_poo… │ (<span style=\"color: #00d7ff; text-decoration-color: #00d7ff\">None</span>, <span style=\"color: #00af00; text-decoration-color: #00af00\">64</span>)        │          <span style=\"color: #00af00; text-decoration-color: #00af00\">0</span> │ lstm[<span style=\"color: #00af00; text-decoration-color: #00af00\">0</span>][<span style=\"color: #00af00; text-decoration-color: #00af00\">0</span>],       │\n",
       "│ (<span style=\"color: #0087ff; text-decoration-color: #0087ff\">GlobalAveragePool…</span> │                   │            │ lstm[<span style=\"color: #00af00; text-decoration-color: #00af00\">1</span>][<span style=\"color: #00af00; text-decoration-color: #00af00\">0</span>],       │\n",
       "│                     │                   │            │ lstm[<span style=\"color: #00af00; text-decoration-color: #00af00\">2</span>][<span style=\"color: #00af00; text-decoration-color: #00af00\">0</span>]        │\n",
       "├─────────────────────┼───────────────────┼────────────┼───────────────────┤\n",
       "│ dropout (<span style=\"color: #0087ff; text-decoration-color: #0087ff\">Dropout</span>)   │ (<span style=\"color: #00d7ff; text-decoration-color: #00d7ff\">None</span>, <span style=\"color: #00af00; text-decoration-color: #00af00\">64</span>)        │          <span style=\"color: #00af00; text-decoration-color: #00af00\">0</span> │ global_average_p… │\n",
       "│                     │                   │            │ global_average_p… │\n",
       "│                     │                   │            │ global_average_p… │\n",
       "├─────────────────────┼───────────────────┼────────────┼───────────────────┤\n",
       "│ emotion_output      │ (<span style=\"color: #00d7ff; text-decoration-color: #00d7ff\">None</span>, <span style=\"color: #00af00; text-decoration-color: #00af00\">6</span>)         │        <span style=\"color: #00af00; text-decoration-color: #00af00\">390</span> │ dropout[<span style=\"color: #00af00; text-decoration-color: #00af00\">0</span>][<span style=\"color: #00af00; text-decoration-color: #00af00\">0</span>]     │\n",
       "│ (<span style=\"color: #0087ff; text-decoration-color: #0087ff\">Dense</span>)             │                   │            │                   │\n",
       "├─────────────────────┼───────────────────┼────────────┼───────────────────┤\n",
       "│ violence_output     │ (<span style=\"color: #00d7ff; text-decoration-color: #00d7ff\">None</span>, <span style=\"color: #00af00; text-decoration-color: #00af00\">5</span>)         │        <span style=\"color: #00af00; text-decoration-color: #00af00\">325</span> │ dropout[<span style=\"color: #00af00; text-decoration-color: #00af00\">1</span>][<span style=\"color: #00af00; text-decoration-color: #00af00\">0</span>]     │\n",
       "│ (<span style=\"color: #0087ff; text-decoration-color: #0087ff\">Dense</span>)             │                   │            │                   │\n",
       "├─────────────────────┼───────────────────┼────────────┼───────────────────┤\n",
       "│ hate_output (<span style=\"color: #0087ff; text-decoration-color: #0087ff\">Dense</span>) │ (<span style=\"color: #00d7ff; text-decoration-color: #00d7ff\">None</span>, <span style=\"color: #00af00; text-decoration-color: #00af00\">3</span>)         │        <span style=\"color: #00af00; text-decoration-color: #00af00\">195</span> │ dropout[<span style=\"color: #00af00; text-decoration-color: #00af00\">2</span>][<span style=\"color: #00af00; text-decoration-color: #00af00\">0</span>]     │\n",
       "└─────────────────────┴───────────────────┴────────────┴───────────────────┘\n",
       "</pre>\n"
      ],
      "text/plain": [
       "┏━━━━━━━━━━━━━━━━━━━━━┳━━━━━━━━━━━━━━━━━━━┳━━━━━━━━━━━━┳━━━━━━━━━━━━━━━━━━━┓\n",
       "┃\u001b[1m \u001b[0m\u001b[1mLayer (type)       \u001b[0m\u001b[1m \u001b[0m┃\u001b[1m \u001b[0m\u001b[1mOutput Shape     \u001b[0m\u001b[1m \u001b[0m┃\u001b[1m \u001b[0m\u001b[1m   Param #\u001b[0m\u001b[1m \u001b[0m┃\u001b[1m \u001b[0m\u001b[1mConnected to     \u001b[0m\u001b[1m \u001b[0m┃\n",
       "┡━━━━━━━━━━━━━━━━━━━━━╇━━━━━━━━━━━━━━━━━━━╇━━━━━━━━━━━━╇━━━━━━━━━━━━━━━━━━━┩\n",
       "│ emotion_input       │ (\u001b[38;5;45mNone\u001b[0m, \u001b[38;5;34m50\u001b[0m)        │          \u001b[38;5;34m0\u001b[0m │ -                 │\n",
       "│ (\u001b[38;5;33mInputLayer\u001b[0m)        │                   │            │                   │\n",
       "├─────────────────────┼───────────────────┼────────────┼───────────────────┤\n",
       "│ violence_input      │ (\u001b[38;5;45mNone\u001b[0m, \u001b[38;5;34m50\u001b[0m)        │          \u001b[38;5;34m0\u001b[0m │ -                 │\n",
       "│ (\u001b[38;5;33mInputLayer\u001b[0m)        │                   │            │                   │\n",
       "├─────────────────────┼───────────────────┼────────────┼───────────────────┤\n",
       "│ hate_input          │ (\u001b[38;5;45mNone\u001b[0m, \u001b[38;5;34m50\u001b[0m)        │          \u001b[38;5;34m0\u001b[0m │ -                 │\n",
       "│ (\u001b[38;5;33mInputLayer\u001b[0m)        │                   │            │                   │\n",
       "├─────────────────────┼───────────────────┼────────────┼───────────────────┤\n",
       "│ embedding           │ (\u001b[38;5;45mNone\u001b[0m, \u001b[38;5;34m50\u001b[0m, \u001b[38;5;34m128\u001b[0m)   │  \u001b[38;5;34m5,350,656\u001b[0m │ emotion_input[\u001b[38;5;34m0\u001b[0m]… │\n",
       "│ (\u001b[38;5;33mEmbedding\u001b[0m)         │                   │            │ violence_input[\u001b[38;5;34m0\u001b[0m… │\n",
       "│                     │                   │            │ hate_input[\u001b[38;5;34m0\u001b[0m][\u001b[38;5;34m0\u001b[0m]  │\n",
       "├─────────────────────┼───────────────────┼────────────┼───────────────────┤\n",
       "│ lstm (\u001b[38;5;33mLSTM\u001b[0m)         │ (\u001b[38;5;45mNone\u001b[0m, \u001b[38;5;34m50\u001b[0m, \u001b[38;5;34m64\u001b[0m)    │     \u001b[38;5;34m49,408\u001b[0m │ embedding[\u001b[38;5;34m0\u001b[0m][\u001b[38;5;34m0\u001b[0m],  │\n",
       "│                     │                   │            │ embedding[\u001b[38;5;34m1\u001b[0m][\u001b[38;5;34m0\u001b[0m],  │\n",
       "│                     │                   │            │ embedding[\u001b[38;5;34m2\u001b[0m][\u001b[38;5;34m0\u001b[0m]   │\n",
       "├─────────────────────┼───────────────────┼────────────┼───────────────────┤\n",
       "│ global_average_poo… │ (\u001b[38;5;45mNone\u001b[0m, \u001b[38;5;34m64\u001b[0m)        │          \u001b[38;5;34m0\u001b[0m │ lstm[\u001b[38;5;34m0\u001b[0m][\u001b[38;5;34m0\u001b[0m],       │\n",
       "│ (\u001b[38;5;33mGlobalAveragePool…\u001b[0m │                   │            │ lstm[\u001b[38;5;34m1\u001b[0m][\u001b[38;5;34m0\u001b[0m],       │\n",
       "│                     │                   │            │ lstm[\u001b[38;5;34m2\u001b[0m][\u001b[38;5;34m0\u001b[0m]        │\n",
       "├─────────────────────┼───────────────────┼────────────┼───────────────────┤\n",
       "│ dropout (\u001b[38;5;33mDropout\u001b[0m)   │ (\u001b[38;5;45mNone\u001b[0m, \u001b[38;5;34m64\u001b[0m)        │          \u001b[38;5;34m0\u001b[0m │ global_average_p… │\n",
       "│                     │                   │            │ global_average_p… │\n",
       "│                     │                   │            │ global_average_p… │\n",
       "├─────────────────────┼───────────────────┼────────────┼───────────────────┤\n",
       "│ emotion_output      │ (\u001b[38;5;45mNone\u001b[0m, \u001b[38;5;34m6\u001b[0m)         │        \u001b[38;5;34m390\u001b[0m │ dropout[\u001b[38;5;34m0\u001b[0m][\u001b[38;5;34m0\u001b[0m]     │\n",
       "│ (\u001b[38;5;33mDense\u001b[0m)             │                   │            │                   │\n",
       "├─────────────────────┼───────────────────┼────────────┼───────────────────┤\n",
       "│ violence_output     │ (\u001b[38;5;45mNone\u001b[0m, \u001b[38;5;34m5\u001b[0m)         │        \u001b[38;5;34m325\u001b[0m │ dropout[\u001b[38;5;34m1\u001b[0m][\u001b[38;5;34m0\u001b[0m]     │\n",
       "│ (\u001b[38;5;33mDense\u001b[0m)             │                   │            │                   │\n",
       "├─────────────────────┼───────────────────┼────────────┼───────────────────┤\n",
       "│ hate_output (\u001b[38;5;33mDense\u001b[0m) │ (\u001b[38;5;45mNone\u001b[0m, \u001b[38;5;34m3\u001b[0m)         │        \u001b[38;5;34m195\u001b[0m │ dropout[\u001b[38;5;34m2\u001b[0m][\u001b[38;5;34m0\u001b[0m]     │\n",
       "└─────────────────────┴───────────────────┴────────────┴───────────────────┘\n"
      ]
     },
     "metadata": {},
     "output_type": "display_data"
    },
    {
     "data": {
      "text/html": [
       "<pre style=\"white-space:pre;overflow-x:auto;line-height:normal;font-family:Menlo,'DejaVu Sans Mono',consolas,'Courier New',monospace\"><span style=\"font-weight: bold\"> Total params: </span><span style=\"color: #00af00; text-decoration-color: #00af00\">5,400,974</span> (20.60 MB)\n",
       "</pre>\n"
      ],
      "text/plain": [
       "\u001b[1m Total params: \u001b[0m\u001b[38;5;34m5,400,974\u001b[0m (20.60 MB)\n"
      ]
     },
     "metadata": {},
     "output_type": "display_data"
    },
    {
     "data": {
      "text/html": [
       "<pre style=\"white-space:pre;overflow-x:auto;line-height:normal;font-family:Menlo,'DejaVu Sans Mono',consolas,'Courier New',monospace\"><span style=\"font-weight: bold\"> Trainable params: </span><span style=\"color: #00af00; text-decoration-color: #00af00\">5,400,974</span> (20.60 MB)\n",
       "</pre>\n"
      ],
      "text/plain": [
       "\u001b[1m Trainable params: \u001b[0m\u001b[38;5;34m5,400,974\u001b[0m (20.60 MB)\n"
      ]
     },
     "metadata": {},
     "output_type": "display_data"
    },
    {
     "data": {
      "text/html": [
       "<pre style=\"white-space:pre;overflow-x:auto;line-height:normal;font-family:Menlo,'DejaVu Sans Mono',consolas,'Courier New',monospace\"><span style=\"font-weight: bold\"> Non-trainable params: </span><span style=\"color: #00af00; text-decoration-color: #00af00\">0</span> (0.00 B)\n",
       "</pre>\n"
      ],
      "text/plain": [
       "\u001b[1m Non-trainable params: \u001b[0m\u001b[38;5;34m0\u001b[0m (0.00 B)\n"
      ]
     },
     "metadata": {},
     "output_type": "display_data"
    }
   ],
   "source": [
    "model.summary()"
   ]
  },
  {
   "cell_type": "code",
   "execution_count": 130,
   "id": "cf831efa-624e-494b-9325-726c85339113",
   "metadata": {},
   "outputs": [
    {
     "name": "stdout",
     "output_type": "stream",
     "text": [
      "Epoch 1/10\n",
      "\u001b[1m3000/3000\u001b[0m \u001b[32m━━━━━━━━━━━━━━━━━━━━\u001b[0m\u001b[37m\u001b[0m \u001b[1m201s\u001b[0m 65ms/step - emotion_output_accuracy: 0.1822 - emotion_output_loss: 1.7943 - hate_output_accuracy: 0.6631 - hate_output_loss: 0.7894 - loss: 2.9884 - violence_output_accuracy: 0.8635 - violence_output_loss: 0.4047\n",
      "Epoch 2/10\n",
      "\u001b[1m3000/3000\u001b[0m \u001b[32m━━━━━━━━━━━━━━━━━━━━\u001b[0m\u001b[37m\u001b[0m \u001b[1m197s\u001b[0m 66ms/step - emotion_output_accuracy: 0.6901 - emotion_output_loss: 0.8245 - hate_output_accuracy: 0.8650 - hate_output_loss: 0.3912 - loss: 1.2745 - violence_output_accuracy: 0.9817 - violence_output_loss: 0.0588\n",
      "Epoch 3/10\n",
      "\u001b[1m3000/3000\u001b[0m \u001b[32m━━━━━━━━━━━━━━━━━━━━\u001b[0m\u001b[37m\u001b[0m \u001b[1m938s\u001b[0m 313ms/step - emotion_output_accuracy: 0.9351 - emotion_output_loss: 0.2211 - hate_output_accuracy: 0.9177 - hate_output_loss: 0.2277 - loss: 0.4597 - violence_output_accuracy: 0.9981 - violence_output_loss: 0.0109\n",
      "Epoch 4/10\n",
      "\u001b[1m3000/3000\u001b[0m \u001b[32m━━━━━━━━━━━━━━━━━━━━\u001b[0m\u001b[37m\u001b[0m \u001b[1m201s\u001b[0m 67ms/step - emotion_output_accuracy: 0.9600 - emotion_output_loss: 0.1311 - hate_output_accuracy: 0.9692 - hate_output_loss: 0.1046 - loss: 0.2398 - violence_output_accuracy: 0.9989 - violence_output_loss: 0.0041\n",
      "Epoch 5/10\n",
      "\u001b[1m3000/3000\u001b[0m \u001b[32m━━━━━━━━━━━━━━━━━━━━\u001b[0m\u001b[37m\u001b[0m \u001b[1m205s\u001b[0m 68ms/step - emotion_output_accuracy: 0.9700 - emotion_output_loss: 0.0904 - hate_output_accuracy: 0.9832 - hate_output_loss: 0.0518 - loss: 0.1437 - violence_output_accuracy: 0.9998 - violence_output_loss: 0.0015\n",
      "Epoch 6/10\n",
      "\u001b[1m3000/3000\u001b[0m \u001b[32m━━━━━━━━━━━━━━━━━━━━\u001b[0m\u001b[37m\u001b[0m \u001b[1m204s\u001b[0m 68ms/step - emotion_output_accuracy: 0.9794 - emotion_output_loss: 0.0639 - hate_output_accuracy: 0.9913 - hate_output_loss: 0.0302 - loss: 0.0960 - violence_output_accuracy: 0.9993 - violence_output_loss: 0.0019\n",
      "Epoch 7/10\n",
      "\u001b[1m3000/3000\u001b[0m \u001b[32m━━━━━━━━━━━━━━━━━━━━\u001b[0m\u001b[37m\u001b[0m \u001b[1m204s\u001b[0m 68ms/step - emotion_output_accuracy: 0.9836 - emotion_output_loss: 0.0441 - hate_output_accuracy: 0.9914 - hate_output_loss: 0.0218 - loss: 0.0669 - violence_output_accuracy: 0.9998 - violence_output_loss: 0.0011\n",
      "Epoch 8/10\n",
      "\u001b[1m3000/3000\u001b[0m \u001b[32m━━━━━━━━━━━━━━━━━━━━\u001b[0m\u001b[37m\u001b[0m \u001b[1m205s\u001b[0m 68ms/step - emotion_output_accuracy: 0.9857 - emotion_output_loss: 0.0388 - hate_output_accuracy: 0.9962 - hate_output_loss: 0.0161 - loss: 0.0558 - violence_output_accuracy: 0.9997 - violence_output_loss: 8.8924e-04\n",
      "Epoch 9/10\n",
      "\u001b[1m3000/3000\u001b[0m \u001b[32m━━━━━━━━━━━━━━━━━━━━\u001b[0m\u001b[37m\u001b[0m \u001b[1m214s\u001b[0m 71ms/step - emotion_output_accuracy: 0.9895 - emotion_output_loss: 0.0305 - hate_output_accuracy: 0.9968 - hate_output_loss: 0.0097 - loss: 0.0406 - violence_output_accuracy: 1.0000 - violence_output_loss: 3.6668e-04\n",
      "Epoch 10/10\n",
      "\u001b[1m3000/3000\u001b[0m \u001b[32m━━━━━━━━━━━━━━━━━━━━\u001b[0m\u001b[37m\u001b[0m \u001b[1m203s\u001b[0m 68ms/step - emotion_output_accuracy: 0.9882 - emotion_output_loss: 0.0305 - hate_output_accuracy: 0.9988 - hate_output_loss: 0.0048 - loss: 0.0357 - violence_output_accuracy: 0.9999 - violence_output_loss: 4.3405e-04\n"
     ]
    },
    {
     "data": {
      "text/plain": [
       "<keras.src.callbacks.history.History at 0x1f228fbf920>"
      ]
     },
     "execution_count": 130,
     "metadata": {},
     "output_type": "execute_result"
    }
   ],
   "source": [
    "model.fit(x={'emotion_input':emotion_input,\n",
    "            'violence_input':violence_input,\n",
    "            'hate_input':hate_input\n",
    "            },\n",
    "         y={'emotion_output':emotion_labels,\n",
    "           'violence_output':violence_labels,\n",
    "           'hate_output':hate_labels\n",
    "           },\n",
    "         epochs=10,\n",
    "         batch_size=4\n",
    "         )"
   ]
  },
  {
   "cell_type": "code",
   "execution_count": 132,
   "id": "5646e761-9a4e-4dbd-8352-2c8d85db9af9",
   "metadata": {},
   "outputs": [
    {
     "name": "stdout",
     "output_type": "stream",
     "text": [
      "\u001b[1m375/375\u001b[0m \u001b[32m━━━━━━━━━━━━━━━━━━━━\u001b[0m\u001b[37m\u001b[0m \u001b[1m6s\u001b[0m 14ms/step\n"
     ]
    }
   ],
   "source": [
    "prediction=model.predict({'emotion_input':emotion_input,\n",
    "                         'violence_input':violence_input,\n",
    "                         'hate_input':hate_input})"
   ]
  },
  {
   "cell_type": "code",
   "execution_count": 134,
   "id": "52e1591f-a66e-4a4a-9649-c7214225dc98",
   "metadata": {},
   "outputs": [
    {
     "data": {
      "text/plain": [
       "[array([[9.9998951e-01, 9.7749091e-07, 6.6414117e-08, 2.0904988e-06,\n",
       "         7.2115163e-06, 1.1813465e-07],\n",
       "        [9.9999595e-01, 1.5552098e-07, 9.9036654e-09, 1.6314793e-06,\n",
       "         2.2342997e-06, 1.1926361e-08],\n",
       "        [9.9999607e-01, 4.2716974e-07, 8.1814600e-09, 9.0009888e-07,\n",
       "         2.5791255e-06, 3.9517428e-08],\n",
       "        ...,\n",
       "        [7.9526901e-05, 3.0229801e-05, 4.7577637e-06, 1.7504779e-05,\n",
       "         1.3643883e-03, 9.9850357e-01],\n",
       "        [1.3267858e-07, 1.3177904e-06, 8.8847891e-08, 5.6663971e-08,\n",
       "         4.7745484e-06, 9.9999368e-01],\n",
       "        [8.2860115e-06, 3.4510205e-05, 4.3591153e-06, 2.6734773e-05,\n",
       "         2.7707367e-05, 9.9989831e-01]], dtype=float32),\n",
       " array([[1.57083131e-11, 1.00000000e+00, 3.50330767e-12, 2.07620704e-12,\n",
       "         1.60566959e-12],\n",
       "        [1.09395569e-06, 9.99993920e-01, 4.60684578e-06, 6.12217690e-08,\n",
       "         2.86320272e-07],\n",
       "        [1.20524057e-09, 1.00000000e+00, 5.98282535e-11, 2.87855351e-10,\n",
       "         2.23454963e-10],\n",
       "        ...,\n",
       "        [5.84753845e-09, 2.26969288e-08, 8.03591647e-08, 3.96261868e-08,\n",
       "         9.99999762e-01],\n",
       "        [4.71516559e-09, 9.22051910e-08, 6.24029184e-09, 9.67390008e-08,\n",
       "         9.99999762e-01],\n",
       "        [1.44857504e-08, 8.74911663e-08, 1.29850655e-08, 2.01198773e-08,\n",
       "         9.99999881e-01]], dtype=float32),\n",
       " array([[2.0620489e-06, 9.9999690e-01, 1.0779328e-06],\n",
       "        [2.3124688e-03, 9.9767655e-01, 1.1016548e-05],\n",
       "        [1.8191829e-06, 9.9999797e-01, 2.3358359e-07],\n",
       "        ...,\n",
       "        [9.9994469e-01, 5.4829550e-05, 4.9401569e-07],\n",
       "        [1.3238164e-07, 1.2262711e-05, 9.9998760e-01],\n",
       "        [6.8683192e-08, 7.0429145e-08, 9.9999976e-01]], dtype=float32)]"
      ]
     },
     "execution_count": 134,
     "metadata": {},
     "output_type": "execute_result"
    }
   ],
   "source": [
    "prediction"
   ]
  },
  {
   "cell_type": "code",
   "execution_count": 136,
   "id": "6a53f73f-72d1-4943-be52-ca1eeb7babb7",
   "metadata": {},
   "outputs": [],
   "source": [
    "emotion_pred=np.argmax(prediction[0],axis=1)\n",
    "violence_pred=np.argmax(prediction[1],axis=1)\n",
    "hate_pred=np.argmax(prediction[2],axis=1)"
   ]
  },
  {
   "cell_type": "code",
   "execution_count": 138,
   "id": "3b2fc898-3e05-420b-a72c-fb3e73c18936",
   "metadata": {},
   "outputs": [],
   "source": [
    "def plot_cm(true,pred,title,labels):\n",
    "    cf=confusion_matrix(true,pred,normalize='true')\n",
    "    plt.figure(figsize=(7,6))\n",
    "    sns.heatmap(cf,annot=True,cmap='Blues', xticklabels=labels,yticklabels=labels)\n",
    "    plt.title(title)\n",
    "    plt.ylabel('Actul')\n",
    "    plt.xlabel('Prediction')"
   ]
  },
  {
   "cell_type": "code",
   "execution_count": 140,
   "id": "f63a6547-ceee-488a-b139-807b65eb5282",
   "metadata": {},
   "outputs": [],
   "source": [
    "emotion_labels_text=['Sadness','Joy','Love','Anger','Fear','Surprise']\n",
    "violence_labels_text=['Sexual_violence','Physical_violence','Emotional_violence','Harmful_traditional_pratices','Economic_violence']\n",
    "hate_labels_text=['Offensive Speech','Neither','Hate Speech']"
   ]
  },
  {
   "cell_type": "code",
   "execution_count": 142,
   "id": "80dd53f9-76d7-45f1-b0a1-52be1f4c9a0e",
   "metadata": {},
   "outputs": [
    {
     "data": {
      "image/png": "[encoded data removed]",
      "text/plain": [
       "<Figure size 700x600 with 2 Axes>"
      ]
     },
     "metadata": {},
     "output_type": "display_data"
    }
   ],
   "source": [
    "plot_cm(emotion_labels,emotion_pred,'Confusion Matrix for Emotion',emotion_labels_text)"
   ]
  },
  {
   "cell_type": "code",
   "execution_count": 144,
   "id": "504c3873-d59d-4777-b3be-471f1c6e9ad6",
   "metadata": {},
   "outputs": [
    {
     "data": {
      "image/png": "[encoded data removed]",
      "text/plain": [
       "<Figure size 700x600 with 2 Axes>"
      ]
     },
     "metadata": {},
     "output_type": "display_data"
    }
   ],
   "source": [
    "plot_cm(violence_labels,violence_pred,'Confusion Matrix for Violence',violence_labels_text)"
   ]
  },
  {
   "cell_type": "code",
   "execution_count": 146,
   "id": "2dd7e853-8d21-4851-ab21-1c9f167a80b0",
   "metadata": {},
   "outputs": [
    {
     "data": {
      "image/png": "[encoded data removed]",
      "text/plain": [
       "<Figure size 700x600 with 2 Axes>"
      ]
     },
     "metadata": {},
     "output_type": "display_data"
    }
   ],
   "source": [
    "plot_cm(hate_labels,hate_pred,'Confusion Matrix for Hate',hate_labels_text)"
   ]
  },
  {
   "cell_type": "code",
   "execution_count": 148,
   "id": "38a48749-8dea-4043-b96b-974a8151c0a6",
   "metadata": {},
   "outputs": [],
   "source": [
    "def classify_text(input_text):\n",
    "    input_text_cleaned = remove_stopwords(input_text)\n",
    "    input_sequence = tokenizer.texts_to_sequences([input_text_cleaned])\n",
    "    input_padded = pad_sequences(input_sequence, maxlen = max_length, padding = 'post')\n",
    "\n",
    "    predictions = model.predict({'emotion_input' : input_padded,\n",
    "                            'violence_input' : input_padded,\n",
    "                            'hate_input' : input_padded})\n",
    "    emotion_pred = np.argmax(predictions[0], axis = 1)[0]\n",
    "    violence_pred = np.argmax(predictions[1], axis = 1)[0]\n",
    "    hate_pred = np.argmax(predictions[2], axis = 1)[0]\n",
    "    major_labels = ['Emotion', 'Violence', 'Hate']\n",
    "    major_label_index = np.argmax([np.max(predictions[0]), np.max(predictions[1]), np.max(predictions[2])])\n",
    "    major_label = major_labels[major_label_index]\n",
    "    emotion_labels_text = ['sadness', 'joy', 'love', 'anger', 'fear', 'surprise']\n",
    "    violence_labels_text = ['sexual_violence', 'physical_violence', 'emotional_violence', 'Harmful_traditional_practice', 'economic violence']\n",
    "    hate_labels_text = ['offensive speech', 'Neither', 'Hate Speech']\n",
    "    if major_label == 'Emotion':\n",
    "        sub_label = emotion_labels_text[emotion_pred]\n",
    "    elif major_label == 'Violence':\n",
    "        sub_label = violence_labels_text[violence_pred]\n",
    "    else:\n",
    "        sub_label = hate_labels_text[hate_pred]\n",
    "\n",
    "    return major_label, sub_label"
   ]
  },
  {
   "cell_type": "code",
   "execution_count": 150,
   "id": "d55484e7-2ab6-4954-aa44-80e511dadd47",
   "metadata": {},
   "outputs": [],
   "source": [
    "import ipywidgets as widgets\n",
    "from IPython.display import display"
   ]
  },
  {
   "cell_type": "code",
   "execution_count": 152,
   "id": "959db294-5e8f-41d7-9211-985361dd1cc4",
   "metadata": {},
   "outputs": [],
   "source": [
    "input_text_widget = widgets.Text(\n",
    "    description = 'Input text : ',\n",
    "    placeholder = 'Enter you text'\n",
    ")"
   ]
  },
  {
   "cell_type": "code",
   "execution_count": 154,
   "id": "65f32b50-6432-4ea9-8b76-249e10a1467f",
   "metadata": {},
   "outputs": [],
   "source": [
    "button = widgets.Button(description = 'classify')"
   ]
  },
  {
   "cell_type": "code",
   "execution_count": 156,
   "id": "c34c99a4-3fc0-4242-96a0-db356985850f",
   "metadata": {},
   "outputs": [],
   "source": [
    "output = widgets.Output()"
   ]
  },
  {
   "cell_type": "code",
   "execution_count": 158,
   "id": "1eaafdc9-a922-4585-95f3-24fd91e3be05",
   "metadata": {},
   "outputs": [],
   "source": [
    "def on_button_click(b):\n",
    "    with output:\n",
    "        output.clear_output()\n",
    "        input_text = input_text_widget.value\n",
    "        major_label, sub_label = classify_text(input_text)\n",
    "        print(f'Major Label : {major_label}')\n",
    "        print(f'Sub Label : {sub_label}')\n"
   ]
  },
  {
   "cell_type": "code",
   "execution_count": 160,
   "id": "88dc5508-6430-4eae-9150-a5ed022e350f",
   "metadata": {},
   "outputs": [],
   "source": [
    "button.on_click(on_button_click)"
   ]
  },
  {
   "cell_type": "code",
   "execution_count": 164,
   "id": "5324239a-2aae-4902-89a4-28a0f72f075d",
   "metadata": {},
   "outputs": [
    {
     "data": {
      "application/vnd.jupyter.widget-view+json": {
       "model_id": "ff855158169545fdb8f014c119845b80",
       "version_major": 2,
       "version_minor": 0
      },
      "text/plain": [
       "Text(value='good job', description='Input text : ', placeholder='Enter you text')"
      ]
     },
     "metadata": {},
     "output_type": "display_data"
    },
    {
     "data": {
      "application/vnd.jupyter.widget-view+json": {
       "model_id": "641f922190c44d21ab3b33e3d4da7c1c",
       "version_major": 2,
       "version_minor": 0
      },
      "text/plain": [
       "Button(description='classify', style=ButtonStyle())"
      ]
     },
     "metadata": {},
     "output_type": "display_data"
    },
    {
     "data": {
      "application/vnd.jupyter.widget-view+json": {
       "model_id": "cc62a9cce318442a85e1b55e0e17b7c8",
       "version_major": 2,
       "version_minor": 0
      },
      "text/plain": [
       "Output(outputs=({'name': 'stdout', 'text': '\\x1b[1m1/1\\x1b[0m \\x1b[32m━━━━━━━━━━━━━━━━━━━━\\x1b[0m\\x1b[37m\\x1b[…"
      ]
     },
     "metadata": {},
     "output_type": "display_data"
    }
   ],
   "source": [
    "display(input_text_widget, button, output)"
   ]
  },
  {
   "cell_type": "code",
   "execution_count": null,
   "id": "a05985d9-c192-4336-9ed8-66acd2edb59c",
   "metadata": {},
   "outputs": [],
   "source": []
  }
 ],
 "metadata": {
  "kernelspec": {
   "display_name": "Python 3 (ipykernel)",
   "language": "python",
   "name": "python3"
  },
  "language_info": {
   "codemirror_mode": {
    "name": "ipython",
    "version": 3
   },
   "file_extension": ".py",
   "mimetype": "text/x-python",
   "name": "python",
   "nbconvert_exporter": "python",
   "pygments_lexer": "ipython3",
   "version": "3.12.4"
  }
 },
 "nbformat": 4,
 "nbformat_minor": 5
}
