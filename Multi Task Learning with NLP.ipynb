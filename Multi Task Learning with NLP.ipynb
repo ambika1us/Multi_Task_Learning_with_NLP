{
 "cells": [
  {
   "cell_type": "code",
   "execution_count": 148,
   "id": "a2c38ddc-da6f-43a8-9fd8-ba9ab0111e4c",
   "metadata": {},
   "outputs": [],
   "source": [
    "import pandas as pd\n",
    "import numpy as np\n",
    "from sklearn.preprocessing import LabelEncoder\n",
    "import warnings\n",
    "warnings.filterwarnings('ignore')\n",
    "\n",
    "import nltk\n",
    "from nltk.corpus import stopwords\n",
    "from tensorflow.keras.preprocessing.text import Tokenizer\n",
    "from tensorflow.keras.preprocessing.sequence import pad_sequences\n",
    "\n",
    "from tensorflow import keras\n",
    "import seaborn as sns\n",
    "from sklearn.metrics import confusion_matrix\n",
    "\n",
    "import matplotlib.pyplot as plt"
   ]
  },
  {
   "cell_type": "code",
   "execution_count": 149,
   "id": "d8d33270-8782-4b3c-b590-35795fa09a01",
   "metadata": {},
   "outputs": [],
   "source": [
    "emotion_df=pd.read_csv('Emotions.csv')\n",
    "violence_df=pd.read_csv('Violence.csv')\n",
    "hate_df=pd.read_csv('Hatespeech.csv')"
   ]
  },
  {
   "cell_type": "code",
   "execution_count": 150,
   "id": "3b791d70-56df-497a-891c-d11ccdc9de52",
   "metadata": {},
   "outputs": [
    {
     "data": {
      "text/html": [
       "<div>\n",
       "<style scoped>\n",
       "    .dataframe tbody tr th:only-of-type {\n",
       "        vertical-align: middle;\n",
       "    }\n",
       "\n",
       "    .dataframe tbody tr th {\n",
       "        vertical-align: top;\n",
       "    }\n",
       "\n",
       "    .dataframe thead th {\n",
       "        text-align: right;\n",
       "    }\n",
       "</style>\n",
       "<table border=\"1\" class=\"dataframe\">\n",
       "  <thead>\n",
       "    <tr style=\"text-align: right;\">\n",
       "      <th></th>\n",
       "      <th>Unnamed: 0</th>\n",
       "      <th>text</th>\n",
       "      <th>label</th>\n",
       "    </tr>\n",
       "  </thead>\n",
       "  <tbody>\n",
       "    <tr>\n",
       "      <th>0</th>\n",
       "      <td>0</td>\n",
       "      <td>i just feel really helpless and heavy hearted</td>\n",
       "      <td>4</td>\n",
       "    </tr>\n",
       "    <tr>\n",
       "      <th>1</th>\n",
       "      <td>1</td>\n",
       "      <td>ive enjoyed being able to slouch about relax a...</td>\n",
       "      <td>0</td>\n",
       "    </tr>\n",
       "    <tr>\n",
       "      <th>2</th>\n",
       "      <td>2</td>\n",
       "      <td>i gave up my internship with the dmrg and am f...</td>\n",
       "      <td>4</td>\n",
       "    </tr>\n",
       "    <tr>\n",
       "      <th>3</th>\n",
       "      <td>3</td>\n",
       "      <td>i dont know i feel so lost</td>\n",
       "      <td>0</td>\n",
       "    </tr>\n",
       "    <tr>\n",
       "      <th>4</th>\n",
       "      <td>4</td>\n",
       "      <td>i am a kindergarten teacher and i am thoroughl...</td>\n",
       "      <td>4</td>\n",
       "    </tr>\n",
       "  </tbody>\n",
       "</table>\n",
       "</div>"
      ],
      "text/plain": [
       "   Unnamed: 0                                               text  label\n",
       "0           0      i just feel really helpless and heavy hearted      4\n",
       "1           1  ive enjoyed being able to slouch about relax a...      0\n",
       "2           2  i gave up my internship with the dmrg and am f...      4\n",
       "3           3                         i dont know i feel so lost      0\n",
       "4           4  i am a kindergarten teacher and i am thoroughl...      4"
      ]
     },
     "execution_count": 150,
     "metadata": {},
     "output_type": "execute_result"
    }
   ],
   "source": [
    "emotion_df.head()"
   ]
  },
  {
   "cell_type": "code",
   "execution_count": 151,
   "id": "b190c7b5-4a2d-41cf-8b7e-818a738c2563",
   "metadata": {},
   "outputs": [
    {
     "data": {
      "text/html": [
       "<div>\n",
       "<style scoped>\n",
       "    .dataframe tbody tr th:only-of-type {\n",
       "        vertical-align: middle;\n",
       "    }\n",
       "\n",
       "    .dataframe tbody tr th {\n",
       "        vertical-align: top;\n",
       "    }\n",
       "\n",
       "    .dataframe thead th {\n",
       "        text-align: right;\n",
       "    }\n",
       "</style>\n",
       "<table border=\"1\" class=\"dataframe\">\n",
       "  <thead>\n",
       "    <tr style=\"text-align: right;\">\n",
       "      <th></th>\n",
       "      <th>Tweet_ID</th>\n",
       "      <th>tweet</th>\n",
       "      <th>type</th>\n",
       "    </tr>\n",
       "  </thead>\n",
       "  <tbody>\n",
       "    <tr>\n",
       "      <th>0</th>\n",
       "      <td>ID_0022DWKP</td>\n",
       "      <td>Had a dream i got raped last night. By a guy i...</td>\n",
       "      <td>sexual_violence</td>\n",
       "    </tr>\n",
       "    <tr>\n",
       "      <th>1</th>\n",
       "      <td>ID_00395QYM</td>\n",
       "      <td>he thought the word raped means sex and told m...</td>\n",
       "      <td>sexual_violence</td>\n",
       "    </tr>\n",
       "    <tr>\n",
       "      <th>2</th>\n",
       "      <td>ID_003EOSSF</td>\n",
       "      <td>She NOT TALKING TO ME I WAS RAPED BY 2 MEN 1 M...</td>\n",
       "      <td>sexual_violence</td>\n",
       "    </tr>\n",
       "    <tr>\n",
       "      <th>3</th>\n",
       "      <td>ID_004BBHOD</td>\n",
       "      <td>I was sexually abused for 3 years at age 4 to ...</td>\n",
       "      <td>sexual_violence</td>\n",
       "    </tr>\n",
       "    <tr>\n",
       "      <th>4</th>\n",
       "      <td>ID_004F7516</td>\n",
       "      <td>Chessy Prout can do better by telling the trut...</td>\n",
       "      <td>sexual_violence</td>\n",
       "    </tr>\n",
       "  </tbody>\n",
       "</table>\n",
       "</div>"
      ],
      "text/plain": [
       "      Tweet_ID                                              tweet  \\\n",
       "0  ID_0022DWKP  Had a dream i got raped last night. By a guy i...   \n",
       "1  ID_00395QYM  he thought the word raped means sex and told m...   \n",
       "2  ID_003EOSSF  She NOT TALKING TO ME I WAS RAPED BY 2 MEN 1 M...   \n",
       "3  ID_004BBHOD  I was sexually abused for 3 years at age 4 to ...   \n",
       "4  ID_004F7516  Chessy Prout can do better by telling the trut...   \n",
       "\n",
       "              type  \n",
       "0  sexual_violence  \n",
       "1  sexual_violence  \n",
       "2  sexual_violence  \n",
       "3  sexual_violence  \n",
       "4  sexual_violence  "
      ]
     },
     "execution_count": 151,
     "metadata": {},
     "output_type": "execute_result"
    }
   ],
   "source": [
    "violence_df.head()"
   ]
  },
  {
   "cell_type": "code",
   "execution_count": 152,
   "id": "6ad020cb-2353-4cd3-be65-c269c4d28ef1",
   "metadata": {},
   "outputs": [
    {
     "data": {
      "text/html": [
       "<div>\n",
       "<style scoped>\n",
       "    .dataframe tbody tr th:only-of-type {\n",
       "        vertical-align: middle;\n",
       "    }\n",
       "\n",
       "    .dataframe tbody tr th {\n",
       "        vertical-align: top;\n",
       "    }\n",
       "\n",
       "    .dataframe thead th {\n",
       "        text-align: right;\n",
       "    }\n",
       "</style>\n",
       "<table border=\"1\" class=\"dataframe\">\n",
       "  <thead>\n",
       "    <tr style=\"text-align: right;\">\n",
       "      <th></th>\n",
       "      <th>Unnamed: 0</th>\n",
       "      <th>count</th>\n",
       "      <th>hate_speech</th>\n",
       "      <th>offensive_language</th>\n",
       "      <th>neither</th>\n",
       "      <th>class</th>\n",
       "      <th>tweet</th>\n",
       "    </tr>\n",
       "  </thead>\n",
       "  <tbody>\n",
       "    <tr>\n",
       "      <th>0</th>\n",
       "      <td>0</td>\n",
       "      <td>3</td>\n",
       "      <td>0</td>\n",
       "      <td>0</td>\n",
       "      <td>3</td>\n",
       "      <td>2</td>\n",
       "      <td>!!! RT @mayasolovely: As a woman you shouldn't...</td>\n",
       "    </tr>\n",
       "    <tr>\n",
       "      <th>1</th>\n",
       "      <td>1</td>\n",
       "      <td>3</td>\n",
       "      <td>0</td>\n",
       "      <td>3</td>\n",
       "      <td>0</td>\n",
       "      <td>1</td>\n",
       "      <td>!!!!! RT @mleew17: boy dats cold...tyga dwn ba...</td>\n",
       "    </tr>\n",
       "    <tr>\n",
       "      <th>2</th>\n",
       "      <td>2</td>\n",
       "      <td>3</td>\n",
       "      <td>0</td>\n",
       "      <td>3</td>\n",
       "      <td>0</td>\n",
       "      <td>1</td>\n",
       "      <td>!!!!!!! RT @UrKindOfBrand Dawg!!!! RT @80sbaby...</td>\n",
       "    </tr>\n",
       "    <tr>\n",
       "      <th>3</th>\n",
       "      <td>3</td>\n",
       "      <td>3</td>\n",
       "      <td>0</td>\n",
       "      <td>2</td>\n",
       "      <td>1</td>\n",
       "      <td>1</td>\n",
       "      <td>!!!!!!!!! RT @C_G_Anderson: @viva_based she lo...</td>\n",
       "    </tr>\n",
       "    <tr>\n",
       "      <th>4</th>\n",
       "      <td>4</td>\n",
       "      <td>6</td>\n",
       "      <td>0</td>\n",
       "      <td>6</td>\n",
       "      <td>0</td>\n",
       "      <td>1</td>\n",
       "      <td>!!!!!!!!!!!!! RT @ShenikaRoberts: The shit you...</td>\n",
       "    </tr>\n",
       "  </tbody>\n",
       "</table>\n",
       "</div>"
      ],
      "text/plain": [
       "   Unnamed: 0  count  hate_speech  offensive_language  neither  class  \\\n",
       "0           0      3            0                   0        3      2   \n",
       "1           1      3            0                   3        0      1   \n",
       "2           2      3            0                   3        0      1   \n",
       "3           3      3            0                   2        1      1   \n",
       "4           4      6            0                   6        0      1   \n",
       "\n",
       "                                               tweet  \n",
       "0  !!! RT @mayasolovely: As a woman you shouldn't...  \n",
       "1  !!!!! RT @mleew17: boy dats cold...tyga dwn ba...  \n",
       "2  !!!!!!! RT @UrKindOfBrand Dawg!!!! RT @80sbaby...  \n",
       "3  !!!!!!!!! RT @C_G_Anderson: @viva_based she lo...  \n",
       "4  !!!!!!!!!!!!! RT @ShenikaRoberts: The shit you...  "
      ]
     },
     "execution_count": 152,
     "metadata": {},
     "output_type": "execute_result"
    }
   ],
   "source": [
    "hate_df.head()"
   ]
  },
  {
   "cell_type": "code",
   "execution_count": 153,
   "id": "04959255-3ff2-4c00-8579-42a91532f115",
   "metadata": {},
   "outputs": [],
   "source": [
    "emotion_df.drop(columns=['Unnamed: 0'], inplace=True)\n",
    "violence_df.drop(columns=['Tweet_ID'], inplace=True)\n",
    "hate_df=hate_df[['tweet','class']]"
   ]
  },
  {
   "cell_type": "code",
   "execution_count": 154,
   "id": "2d8f8a8f-9127-43a5-90a5-dba1d5def161",
   "metadata": {},
   "outputs": [
    {
     "data": {
      "text/plain": [
       "(Index(['text', 'label'], dtype='object'),\n",
       " Index(['tweet', 'type'], dtype='object'),\n",
       " Index(['tweet', 'class'], dtype='object'))"
      ]
     },
     "execution_count": 154,
     "metadata": {},
     "output_type": "execute_result"
    }
   ],
   "source": [
    "emotion_df.columns,violence_df.columns,hate_df.columns"
   ]
  },
  {
   "cell_type": "code",
   "execution_count": 155,
   "id": "aeff3952-0aeb-466b-82b2-27dca1e23b34",
   "metadata": {},
   "outputs": [],
   "source": [
    "violence_df.rename(columns={'tweet':'text','type':'label'},inplace=True)\n",
    "hate_df.rename(columns={'tweet':'text','class':'label'},inplace=True)"
   ]
  },
  {
   "cell_type": "code",
   "execution_count": 156,
   "id": "e7150122-436c-48b5-891c-7c71ea5118fa",
   "metadata": {},
   "outputs": [
    {
     "data": {
      "text/plain": [
       "(Index(['text', 'label'], dtype='object'),\n",
       " Index(['text', 'label'], dtype='object'),\n",
       " Index(['text', 'label'], dtype='object'))"
      ]
     },
     "execution_count": 156,
     "metadata": {},
     "output_type": "execute_result"
    }
   ],
   "source": [
    "emotion_df.columns,violence_df.columns,hate_df.columns"
   ]
  },
  {
   "cell_type": "code",
   "execution_count": 157,
   "id": "827ed36b-b1f0-4652-89e6-a955c2268fbb",
   "metadata": {},
   "outputs": [
    {
     "data": {
      "text/plain": [
       "(text     0\n",
       " label    0\n",
       " dtype: int64,\n",
       " text     0\n",
       " label    0\n",
       " dtype: int64,\n",
       " text     0\n",
       " label    0\n",
       " dtype: int64)"
      ]
     },
     "execution_count": 157,
     "metadata": {},
     "output_type": "execute_result"
    }
   ],
   "source": [
    "emotion_df.isna().sum(), violence_df.isna().sum(), hate_df.isna().sum()"
   ]
  },
  {
   "cell_type": "code",
   "execution_count": 158,
   "id": "7774ab9e-68bd-4695-a366-d561fcdaca35",
   "metadata": {},
   "outputs": [
    {
     "data": {
      "text/plain": [
       "((416809, 2), (39650, 2), (24783, 2))"
      ]
     },
     "execution_count": 158,
     "metadata": {},
     "output_type": "execute_result"
    }
   ],
   "source": [
    "emotion_df.shape, violence_df.shape, hate_df.shape"
   ]
  },
  {
   "cell_type": "code",
   "execution_count": 159,
   "id": "8117e64d-7f6e-40ac-b90c-70aba8290178",
   "metadata": {},
   "outputs": [
    {
     "data": {
      "text/plain": [
       "label\n",
       "1    141067\n",
       "0    121187\n",
       "3     57317\n",
       "4     47712\n",
       "2     34554\n",
       "5     14972\n",
       "Name: count, dtype: int64"
      ]
     },
     "execution_count": 159,
     "metadata": {},
     "output_type": "execute_result"
    }
   ],
   "source": [
    "emotion_df['label'].value_counts()"
   ]
  },
  {
   "cell_type": "code",
   "execution_count": 160,
   "id": "51ad146c-1f4d-4176-8c55-1e2e5d51bcb3",
   "metadata": {},
   "outputs": [
    {
     "data": {
      "text/plain": [
       "label\n",
       "sexual_violence                 32648\n",
       "Physical_violence                5946\n",
       "emotional_violence                651\n",
       "economic_violence                 217\n",
       "Harmful_Traditional_practice      188\n",
       "Name: count, dtype: int64"
      ]
     },
     "execution_count": 160,
     "metadata": {},
     "output_type": "execute_result"
    }
   ],
   "source": [
    "violence_df['label'].value_counts()"
   ]
  },
  {
   "cell_type": "code",
   "execution_count": 161,
   "id": "52102b6d-bddb-4ef8-8355-5f1088f6903b",
   "metadata": {},
   "outputs": [
    {
     "data": {
      "text/plain": [
       "label\n",
       "1    19190\n",
       "2     4163\n",
       "0     1430\n",
       "Name: count, dtype: int64"
      ]
     },
     "execution_count": 161,
     "metadata": {},
     "output_type": "execute_result"
    }
   ],
   "source": [
    "hate_df['label'].value_counts()"
   ]
  },
  {
   "cell_type": "code",
   "execution_count": 162,
   "id": "79ff3991-62b5-47c0-bdb4-0acf5b3f5065",
   "metadata": {},
   "outputs": [],
   "source": [
    "e_df=pd.DataFrame()\n",
    "for i in  range(len(emotion_df['label'].unique())):\n",
    "    subset=emotion_df[emotion_df['label']==i].sample(n=2000,random_state=42)\n",
    "    e_df=pd.concat([e_df,subset])"
   ]
  },
  {
   "cell_type": "code",
   "execution_count": 163,
   "id": "8d8056b0-06b8-4f4f-9990-28335044ad71",
   "metadata": {},
   "outputs": [
    {
     "data": {
      "text/plain": [
       "(12000, 2)"
      ]
     },
     "execution_count": 163,
     "metadata": {},
     "output_type": "execute_result"
    }
   ],
   "source": [
    "e_df.shape"
   ]
  },
  {
   "cell_type": "code",
   "execution_count": 164,
   "id": "913b67ca-e851-46d6-bd56-950fa755ed01",
   "metadata": {},
   "outputs": [],
   "source": [
    "emotion_df=e_df.copy()"
   ]
  },
  {
   "cell_type": "code",
   "execution_count": 165,
   "id": "8c70c8b1-b331-4bff-ac5d-494c96dc385c",
   "metadata": {},
   "outputs": [
    {
     "data": {
      "text/plain": [
       "label\n",
       "0    2000\n",
       "1    2000\n",
       "2    2000\n",
       "3    2000\n",
       "4    2000\n",
       "5    2000\n",
       "Name: count, dtype: int64"
      ]
     },
     "execution_count": 165,
     "metadata": {},
     "output_type": "execute_result"
    }
   ],
   "source": [
    "emotion_df['label'].value_counts()"
   ]
  },
  {
   "cell_type": "code",
   "execution_count": 166,
   "id": "42c868cc-7d4a-444f-976d-55f9b384974a",
   "metadata": {},
   "outputs": [],
   "source": [
    "sexual_violence=violence_df[violence_df['label']=='sexual_violence'].sample(n=4998, random_state=42)\n",
    "violence_df=violence_df[violence_df['label']!='sexual_violence']"
   ]
  },
  {
   "cell_type": "code",
   "execution_count": 167,
   "id": "ccb1b109-b56a-45e1-aaae-8c0e5b3005f4",
   "metadata": {},
   "outputs": [],
   "source": [
    "violence_df=pd.concat([violence_df,sexual_violence], axis=0)"
   ]
  },
  {
   "cell_type": "code",
   "execution_count": 168,
   "id": "5327b9a7-0897-4b03-8c63-bf36f5166024",
   "metadata": {},
   "outputs": [
    {
     "data": {
      "text/plain": [
       "label\n",
       "Physical_violence               5946\n",
       "sexual_violence                 4998\n",
       "emotional_violence               651\n",
       "economic_violence                217\n",
       "Harmful_Traditional_practice     188\n",
       "Name: count, dtype: int64"
      ]
     },
     "execution_count": 168,
     "metadata": {},
     "output_type": "execute_result"
    }
   ],
   "source": [
    "violence_df['label'].value_counts()"
   ]
  },
  {
   "cell_type": "code",
   "execution_count": 169,
   "id": "ab794d4b-8120-47e8-a801-8bc9ca9568da",
   "metadata": {},
   "outputs": [],
   "source": [
    "offensive_speech=hate_df[hate_df['label']==1].sample(n=6407, random_state=42)\n",
    "hate_df=hate_df[hate_df['label']!=1]"
   ]
  },
  {
   "cell_type": "code",
   "execution_count": 170,
   "id": "ad313533-c42a-4da1-b138-100a37a1f42a",
   "metadata": {},
   "outputs": [],
   "source": [
    "hate_df=pd.concat([offensive_speech,hate_df], axis=0)"
   ]
  },
  {
   "cell_type": "code",
   "execution_count": 171,
   "id": "ac39b567-8a85-4b23-9d4c-1e0d1ce85e58",
   "metadata": {},
   "outputs": [
    {
     "data": {
      "text/plain": [
       "label\n",
       "1    6407\n",
       "2    4163\n",
       "0    1430\n",
       "Name: count, dtype: int64"
      ]
     },
     "execution_count": 171,
     "metadata": {},
     "output_type": "execute_result"
    }
   ],
   "source": [
    "hate_df['label'].value_counts()"
   ]
  },
  {
   "cell_type": "code",
   "execution_count": 172,
   "id": "305220d7-7e3e-4355-aaa1-c3e18863c21d",
   "metadata": {},
   "outputs": [
    {
     "data": {
      "text/plain": [
       "((12000, 2), (12000, 2), (12000, 2))"
      ]
     },
     "execution_count": 172,
     "metadata": {},
     "output_type": "execute_result"
    }
   ],
   "source": [
    "hate_df.shape,emotion_df.shape, violence_df.shape"
   ]
  },
  {
   "cell_type": "code",
   "execution_count": 173,
   "id": "9009cdf8-8946-4526-89f1-b2df53221573",
   "metadata": {},
   "outputs": [],
   "source": [
    "label_encoder=LabelEncoder()\n",
    "violence_df['label']=label_encoder.fit_transform(violence_df['label'])"
   ]
  },
  {
   "cell_type": "code",
   "execution_count": 174,
   "id": "f4ae7213-f089-4fb7-a9c8-f50debbebd1b",
   "metadata": {},
   "outputs": [
    {
     "data": {
      "text/html": [
       "<div>\n",
       "<style scoped>\n",
       "    .dataframe tbody tr th:only-of-type {\n",
       "        vertical-align: middle;\n",
       "    }\n",
       "\n",
       "    .dataframe tbody tr th {\n",
       "        vertical-align: top;\n",
       "    }\n",
       "\n",
       "    .dataframe thead th {\n",
       "        text-align: right;\n",
       "    }\n",
       "</style>\n",
       "<table border=\"1\" class=\"dataframe\">\n",
       "  <thead>\n",
       "    <tr style=\"text-align: right;\">\n",
       "      <th></th>\n",
       "      <th>text</th>\n",
       "      <th>label</th>\n",
       "    </tr>\n",
       "  </thead>\n",
       "  <tbody>\n",
       "    <tr>\n",
       "      <th>6</th>\n",
       "      <td>My Husband Beats Me Frequently, Wife Tells Cou...</td>\n",
       "      <td>1</td>\n",
       "    </tr>\n",
       "    <tr>\n",
       "      <th>29</th>\n",
       "      <td>Best thing for me to do, is remain silent when...</td>\n",
       "      <td>1</td>\n",
       "    </tr>\n",
       "    <tr>\n",
       "      <th>30</th>\n",
       "      <td>My husband will never beat me, Bambam denies r...</td>\n",
       "      <td>1</td>\n",
       "    </tr>\n",
       "    <tr>\n",
       "      <th>33</th>\n",
       "      <td>theyre like, i just wanna be a baby maker with...</td>\n",
       "      <td>1</td>\n",
       "    </tr>\n",
       "    <tr>\n",
       "      <th>35</th>\n",
       "      <td>I was in England for a week, the longest I’ve ...</td>\n",
       "      <td>1</td>\n",
       "    </tr>\n",
       "    <tr>\n",
       "      <th>...</th>\n",
       "      <td>...</td>\n",
       "      <td>...</td>\n",
       "    </tr>\n",
       "    <tr>\n",
       "      <th>25368</th>\n",
       "      <td>i was 13 and had just been raped. the police t...</td>\n",
       "      <td>4</td>\n",
       "    </tr>\n",
       "    <tr>\n",
       "      <th>13942</th>\n",
       "      <td>So bad.She/he don't know how blessed they are ...</td>\n",
       "      <td>4</td>\n",
       "    </tr>\n",
       "    <tr>\n",
       "      <th>34704</th>\n",
       "      <td>I was Hide and he was Yoshi. We were Hideyoshi...</td>\n",
       "      <td>4</td>\n",
       "    </tr>\n",
       "    <tr>\n",
       "      <th>18626</th>\n",
       "      <td>It actually sickens me that he's so smug abt '...</td>\n",
       "      <td>4</td>\n",
       "    </tr>\n",
       "    <tr>\n",
       "      <th>36756</th>\n",
       "      <td>without any fear of being raped. Bcaz I know m...</td>\n",
       "      <td>4</td>\n",
       "    </tr>\n",
       "  </tbody>\n",
       "</table>\n",
       "<p>12000 rows × 2 columns</p>\n",
       "</div>"
      ],
      "text/plain": [
       "                                                    text  label\n",
       "6      My Husband Beats Me Frequently, Wife Tells Cou...      1\n",
       "29     Best thing for me to do, is remain silent when...      1\n",
       "30     My husband will never beat me, Bambam denies r...      1\n",
       "33     theyre like, i just wanna be a baby maker with...      1\n",
       "35     I was in England for a week, the longest I’ve ...      1\n",
       "...                                                  ...    ...\n",
       "25368  i was 13 and had just been raped. the police t...      4\n",
       "13942  So bad.She/he don't know how blessed they are ...      4\n",
       "34704  I was Hide and he was Yoshi. We were Hideyoshi...      4\n",
       "18626  It actually sickens me that he's so smug abt '...      4\n",
       "36756  without any fear of being raped. Bcaz I know m...      4\n",
       "\n",
       "[12000 rows x 2 columns]"
      ]
     },
     "execution_count": 174,
     "metadata": {},
     "output_type": "execute_result"
    }
   ],
   "source": [
    "violence_df"
   ]
  },
  {
   "cell_type": "code",
   "execution_count": 175,
   "id": "513c2270-e643-4dea-852f-b7f0ad9b7e90",
   "metadata": {},
   "outputs": [
    {
     "data": {
      "text/plain": [
       "array([1, 3, 0, 2, 4])"
      ]
     },
     "execution_count": 175,
     "metadata": {},
     "output_type": "execute_result"
    }
   ],
   "source": [
    "violence_df['label'].unique()"
   ]
  },
  {
   "cell_type": "code",
   "execution_count": 176,
   "id": "2557a517-abfe-458b-8909-54e3a3f13139",
   "metadata": {},
   "outputs": [
    {
     "name": "stderr",
     "output_type": "stream",
     "text": [
      "[nltk_data] Downloading package punkt_tab to\n",
      "[nltk_data]     C:\\Users\\ambik\\AppData\\Roaming\\nltk_data...\n",
      "[nltk_data]   Package punkt_tab is already up-to-date!\n"
     ]
    },
    {
     "data": {
      "text/plain": [
       "True"
      ]
     },
     "execution_count": 176,
     "metadata": {},
     "output_type": "execute_result"
    }
   ],
   "source": [
    "import nltk\n",
    "nltk.download('punkt_tab')"
   ]
  },
  {
   "cell_type": "code",
   "execution_count": 177,
   "id": "86f75b65-1052-40df-a871-efb6ae9ff2a3",
   "metadata": {},
   "outputs": [
    {
     "name": "stderr",
     "output_type": "stream",
     "text": [
      "[nltk_data] Downloading package stopwords to\n",
      "[nltk_data]     C:\\Users\\ambik\\AppData\\Roaming\\nltk_data...\n",
      "[nltk_data]   Package stopwords is already up-to-date!\n",
      "[nltk_data] Downloading package punkt to\n",
      "[nltk_data]     C:\\Users\\ambik\\AppData\\Roaming\\nltk_data...\n",
      "[nltk_data]   Package punkt is already up-to-date!\n"
     ]
    },
    {
     "data": {
      "text/plain": [
       "True"
      ]
     },
     "execution_count": 177,
     "metadata": {},
     "output_type": "execute_result"
    }
   ],
   "source": [
    "nltk.download('stopwords')\n",
    "nltk.download('punkt')"
   ]
  },
  {
   "cell_type": "code",
   "execution_count": 178,
   "id": "70eb6f74-a790-427d-89c0-5f75f063abb1",
   "metadata": {},
   "outputs": [],
   "source": [
    "stop_words=set(stopwords.words('english'))"
   ]
  },
  {
   "cell_type": "code",
   "execution_count": 179,
   "id": "7fdb0df7-b8e3-4573-b645-1bb75cab6e31",
   "metadata": {},
   "outputs": [
    {
     "data": {
      "text/plain": [
       "179"
      ]
     },
     "execution_count": 179,
     "metadata": {},
     "output_type": "execute_result"
    }
   ],
   "source": [
    "len(stop_words)"
   ]
  },
  {
   "cell_type": "code",
   "execution_count": 180,
   "id": "1e764f7c-8d1e-4836-840c-002316d1e87a",
   "metadata": {},
   "outputs": [],
   "source": [
    "def remove_stopwords(text):\n",
    "    all_words=nltk.word_tokenize(text)\n",
    "    filtered_words=[word for word in all_words if word.lower() not in stop_words]\n",
    "    return ' '.join(filtered_words)"
   ]
  },
  {
   "cell_type": "code",
   "execution_count": 181,
   "id": "0e488e9f-052e-47e5-b939-26fd52a1a341",
   "metadata": {},
   "outputs": [],
   "source": [
    "emotion_df['text']=emotion_df['text'].apply(remove_stopwords)\n",
    "violence_df['text']=violence_df['text'].apply(remove_stopwords)\n",
    "hate_df['text']=hate_df['text'].apply(remove_stopwords)"
   ]
  },
  {
   "cell_type": "code",
   "execution_count": 182,
   "id": "75f8be97-f2df-481a-9f4f-05d445caf705",
   "metadata": {},
   "outputs": [
    {
     "data": {
      "text/html": [
       "<div>\n",
       "<style scoped>\n",
       "    .dataframe tbody tr th:only-of-type {\n",
       "        vertical-align: middle;\n",
       "    }\n",
       "\n",
       "    .dataframe tbody tr th {\n",
       "        vertical-align: top;\n",
       "    }\n",
       "\n",
       "    .dataframe thead th {\n",
       "        text-align: right;\n",
       "    }\n",
       "</style>\n",
       "<table border=\"1\" class=\"dataframe\">\n",
       "  <thead>\n",
       "    <tr style=\"text-align: right;\">\n",
       "      <th></th>\n",
       "      <th>text</th>\n",
       "      <th>label</th>\n",
       "    </tr>\n",
       "  </thead>\n",
       "  <tbody>\n",
       "    <tr>\n",
       "      <th>133243</th>\n",
       "      <td>ive learned surround women lift leave feeling ...</td>\n",
       "      <td>0</td>\n",
       "    </tr>\n",
       "    <tr>\n",
       "      <th>88501</th>\n",
       "      <td>already feel crappy upset situation doesnt help</td>\n",
       "      <td>0</td>\n",
       "    </tr>\n",
       "    <tr>\n",
       "      <th>131379</th>\n",
       "      <td>feel like lost mourned moved past tears relati...</td>\n",
       "      <td>0</td>\n",
       "    </tr>\n",
       "    <tr>\n",
       "      <th>148369</th>\n",
       "      <td>could write whole lot im feeling crappy dont t...</td>\n",
       "      <td>0</td>\n",
       "    </tr>\n",
       "    <tr>\n",
       "      <th>134438</th>\n",
       "      <td>always seem feel inadequate</td>\n",
       "      <td>0</td>\n",
       "    </tr>\n",
       "  </tbody>\n",
       "</table>\n",
       "</div>"
      ],
      "text/plain": [
       "                                                     text  label\n",
       "133243  ive learned surround women lift leave feeling ...      0\n",
       "88501     already feel crappy upset situation doesnt help      0\n",
       "131379  feel like lost mourned moved past tears relati...      0\n",
       "148369  could write whole lot im feeling crappy dont t...      0\n",
       "134438                        always seem feel inadequate      0"
      ]
     },
     "execution_count": 182,
     "metadata": {},
     "output_type": "execute_result"
    }
   ],
   "source": [
    "emotion_df.head()"
   ]
  },
  {
   "cell_type": "code",
   "execution_count": 183,
   "id": "bdda6239-19fa-4828-ab94-81b03ac5736a",
   "metadata": {},
   "outputs": [],
   "source": [
    "tokenizer=Tokenizer()"
   ]
  },
  {
   "cell_type": "code",
   "execution_count": 184,
   "id": "cbed63d4-4fb4-4a42-bf3d-f1722cc619f8",
   "metadata": {},
   "outputs": [],
   "source": [
    "tokenizer.fit_on_texts(pd.concat([emotion_df['text'],violence_df['text'],hate_df['text']]))"
   ]
  },
  {
   "cell_type": "code",
   "execution_count": 185,
   "id": "bfcdbcd9-fd80-4755-b3cf-e6e2efc1856d",
   "metadata": {},
   "outputs": [],
   "source": [
    "emotion_sequence=tokenizer.texts_to_sequences(emotion_df['text'])\n",
    "violence_sequence=tokenizer.texts_to_sequences(violence_df['text'])\n",
    "hate_sequence=tokenizer.texts_to_sequences(hate_df['text'])"
   ]
  },
  {
   "cell_type": "code",
   "execution_count": 186,
   "id": "707e670d-3952-4fa2-a450-3134f5fe109f",
   "metadata": {},
   "outputs": [
    {
     "data": {
      "text/plain": [
       "'feel like lost mourned moved past tears relationship'"
      ]
     },
     "execution_count": 186,
     "metadata": {},
     "output_type": "execute_result"
    }
   ],
   "source": [
    "emotion_df['text'].iloc[2]"
   ]
  },
  {
   "cell_type": "code",
   "execution_count": 187,
   "id": "5eeecbf0-b48b-463a-8741-83aaec36928d",
   "metadata": {},
   "outputs": [
    {
     "data": {
      "text/plain": [
       "[[1, 5, 321, 11854, 1207, 422, 1093, 385]]"
      ]
     },
     "execution_count": 187,
     "metadata": {},
     "output_type": "execute_result"
    }
   ],
   "source": [
    "emotion_sequence[2:3]"
   ]
  },
  {
   "cell_type": "code",
   "execution_count": 188,
   "id": "15b5c8ea-8dad-4e1b-aa41-aef6fe067174",
   "metadata": {},
   "outputs": [],
   "source": [
    "max_length=50\n",
    "emotion_padded=pad_sequences(emotion_sequence,maxlen=max_length,padding='post')\n",
    "violence_padded=pad_sequences(violence_sequence,maxlen=max_length,padding='post')\n",
    "hate_padded=pad_sequences(hate_sequence,maxlen=max_length,padding='post')"
   ]
  },
  {
   "cell_type": "code",
   "execution_count": 189,
   "id": "87a251dc-6d5d-4f19-acf6-52fc48c4d8ef",
   "metadata": {},
   "outputs": [
    {
     "data": {
      "text/plain": [
       "array([[    1,     5,   321, 11854,  1207,   422,  1093,   385,     0,\n",
       "            0,     0,     0,     0,     0,     0,     0,     0,     0,\n",
       "            0,     0,     0,     0,     0,     0,     0,     0,     0,\n",
       "            0,     0,     0,     0,     0,     0,     0,     0,     0,\n",
       "            0,     0,     0,     0,     0,     0,     0,     0,     0,\n",
       "            0,     0,     0,     0,     0]])"
      ]
     },
     "execution_count": 189,
     "metadata": {},
     "output_type": "execute_result"
    }
   ],
   "source": [
    "emotion_padded[2:3]"
   ]
  },
  {
   "cell_type": "code",
   "execution_count": 190,
   "id": "17d467da-95d6-43cf-a419-04b4d42d9960",
   "metadata": {},
   "outputs": [],
   "source": [
    "emotion_labels=np.array(emotion_df['label'])\n",
    "violence_labels=np.array(violence_df['label'])\n",
    "hate_labels=np.array(hate_df['label'])"
   ]
  },
  {
   "cell_type": "code",
   "execution_count": 204,
   "id": "6a0b86a1-e6b4-48a5-aab7-0d8b8917ad8b",
   "metadata": {},
   "outputs": [],
   "source": [
    "hate_input=hate_padded\n",
    "violence_input=violence_padded\n",
    "emotion_input=emotion_padded"
   ]
  },
  {
   "cell_type": "code",
   "execution_count": 206,
   "id": "a14a99c6-8b56-4d7d-b838-c5266c22070f",
   "metadata": {},
   "outputs": [],
   "source": [
    "emotion_input_layer=keras.layers.Input(shape=(max_length,),name='emotion_input')\n",
    "violence_input_layer=keras.layers.Input(shape=(max_length,),name='violence_input')\n",
    "hate_input_layer=keras.layers.Input(shape=(max_length,),name='hate_input')"
   ]
  },
  {
   "cell_type": "code",
   "execution_count": 208,
   "id": "38cb58f8-8c72-4989-9629-2bb611304afe",
   "metadata": {},
   "outputs": [],
   "source": [
    "embedding_layer=keras.layers.Embedding(input_dim=len(tokenizer.word_index)+1,output_dim=128)"
   ]
  },
  {
   "cell_type": "code",
   "execution_count": 210,
   "id": "e6056755-6711-405a-97b2-400026e26a0f",
   "metadata": {},
   "outputs": [],
   "source": [
    "emotion_embedding=embedding_layer(emotion_input_layer)\n",
    "violence_embedding=embedding_layer(violence_input_layer)\n",
    "hate_embedding=embedding_layer(hate_input_layer)"
   ]
  },
  {
   "cell_type": "code",
   "execution_count": 212,
   "id": "e1adf7d7-fc50-4041-b9c8-f6fd09dcafc5",
   "metadata": {},
   "outputs": [],
   "source": [
    "shared_lstm=keras.layers.LSTM(64,return_sequences=True)"
   ]
  },
  {
   "cell_type": "code",
   "execution_count": 214,
   "id": "e9ac5b5c-033e-4419-b190-a8df6f203d7e",
   "metadata": {},
   "outputs": [],
   "source": [
    "emotion_lstm=shared_lstm(emotion_embedding)\n",
    "violence_lstm=shared_lstm(violence_embedding)\n",
    "hate_lstm=shared_lstm(hate_embedding)"
   ]
  },
  {
   "cell_type": "code",
   "execution_count": 216,
   "id": "7374b300-cb21-40b6-98b9-3c813d69ab40",
   "metadata": {},
   "outputs": [],
   "source": [
    "shared_pooling=keras.layers.GlobalAveragePooling1D()\n",
    "shared_dropout=keras.layers.Dropout(0.5)"
   ]
  },
  {
   "cell_type": "code",
   "execution_count": 218,
   "id": "d2ba58c2-2f43-4502-aa22-4b2d2a8d6b33",
   "metadata": {},
   "outputs": [],
   "source": [
    "emotion_features=shared_dropout(shared_pooling(emotion_lstm))\n",
    "violence_features=shared_dropout(shared_pooling(violence_lstm))\n",
    "hate_features=shared_dropout(shared_pooling(hate_lstm))"
   ]
  },
  {
   "cell_type": "code",
   "execution_count": 220,
   "id": "1732b1fd-01d4-421f-8905-370e69157de5",
   "metadata": {},
   "outputs": [
    {
     "data": {
      "text/plain": [
       "(6, 5, 3)"
      ]
     },
     "execution_count": 220,
     "metadata": {},
     "output_type": "execute_result"
    }
   ],
   "source": [
    "len(emotion_df['label'].unique()), len(violence_df['label'].unique()), len(hate_df['label'].unique())"
   ]
  },
  {
   "cell_type": "code",
   "execution_count": 222,
   "id": "46bf9cd9-d155-45bc-8fce-ce2ce03c43e3",
   "metadata": {},
   "outputs": [],
   "source": [
    "emotion_output=keras.layers.Dense(6,activation='softmax', name='emotion_output')(emotion_features)\n",
    "violence_output=keras.layers.Dense(5,activation='softmax', name='violence_output')(violence_features)\n",
    "hate_output=keras.layers.Dense(3,activation='softmax',name='hate_output')(hate_features)"
   ]
  },
  {
   "cell_type": "code",
   "execution_count": 224,
   "id": "310acb0e-bef1-4887-8174-6d0cd131f451",
   "metadata": {},
   "outputs": [],
   "source": [
    "model=keras.models.Model(inputs=[emotion_input_layer,violence_input_layer,hate_input_layer],\n",
    "                       outputs=[emotion_output,violence_output,hate_output])\n",
    "\n",
    "model.compile(optimizer='adam',\n",
    "             loss={'emotion_output':'sparse_categorical_crossentropy',\n",
    "                  'violence_output':'sparse_categorical_crossentropy',\n",
    "                  'hate_output':'sparse_categorical_crossentropy'\n",
    "                  },\n",
    "             metrics={'emotion_output':'accuracy',\n",
    "                     'violence_output':'accuracy',\n",
    "                     'hate_output':'accuracy'\n",
    "                     })"
   ]
  },
  {
   "cell_type": "code",
   "execution_count": 226,
   "id": "8a9447e4-14ab-4e5a-b84f-dc68bc516471",
   "metadata": {},
   "outputs": [
    {
     "data": {
      "text/html": [
       "<pre style=\"white-space:pre;overflow-x:auto;line-height:normal;font-family:Menlo,'DejaVu Sans Mono',consolas,'Courier New',monospace\"><span style=\"font-weight: bold\">Model: \"functional_2\"</span>\n",
       "</pre>\n"
      ],
      "text/plain": [
       "\u001b[1mModel: \"functional_2\"\u001b[0m\n"
      ]
     },
     "metadata": {},
     "output_type": "display_data"
    },
    {
     "data": {
      "text/html": [
       "<pre style=\"white-space:pre;overflow-x:auto;line-height:normal;font-family:Menlo,'DejaVu Sans Mono',consolas,'Courier New',monospace\">┏━━━━━━━━━━━━━━━━━━━━━┳━━━━━━━━━━━━━━━━━━━┳━━━━━━━━━━━━┳━━━━━━━━━━━━━━━━━━━┓\n",
       "┃<span style=\"font-weight: bold\"> Layer (type)        </span>┃<span style=\"font-weight: bold\"> Output Shape      </span>┃<span style=\"font-weight: bold\">    Param # </span>┃<span style=\"font-weight: bold\"> Connected to      </span>┃\n",
       "┡━━━━━━━━━━━━━━━━━━━━━╇━━━━━━━━━━━━━━━━━━━╇━━━━━━━━━━━━╇━━━━━━━━━━━━━━━━━━━┩\n",
       "│ emotion_input       │ (<span style=\"color: #00d7ff; text-decoration-color: #00d7ff\">None</span>, <span style=\"color: #00af00; text-decoration-color: #00af00\">50</span>)        │          <span style=\"color: #00af00; text-decoration-color: #00af00\">0</span> │ -                 │\n",
       "│ (<span style=\"color: #0087ff; text-decoration-color: #0087ff\">InputLayer</span>)        │                   │            │                   │\n",
       "├─────────────────────┼───────────────────┼────────────┼───────────────────┤\n",
       "│ violence_input      │ (<span style=\"color: #00d7ff; text-decoration-color: #00d7ff\">None</span>, <span style=\"color: #00af00; text-decoration-color: #00af00\">50</span>)        │          <span style=\"color: #00af00; text-decoration-color: #00af00\">0</span> │ -                 │\n",
       "│ (<span style=\"color: #0087ff; text-decoration-color: #0087ff\">InputLayer</span>)        │                   │            │                   │\n",
       "├─────────────────────┼───────────────────┼────────────┼───────────────────┤\n",
       "│ hate_input          │ (<span style=\"color: #00d7ff; text-decoration-color: #00d7ff\">None</span>, <span style=\"color: #00af00; text-decoration-color: #00af00\">50</span>)        │          <span style=\"color: #00af00; text-decoration-color: #00af00\">0</span> │ -                 │\n",
       "│ (<span style=\"color: #0087ff; text-decoration-color: #0087ff\">InputLayer</span>)        │                   │            │                   │\n",
       "├─────────────────────┼───────────────────┼────────────┼───────────────────┤\n",
       "│ embedding_2         │ (<span style=\"color: #00d7ff; text-decoration-color: #00d7ff\">None</span>, <span style=\"color: #00af00; text-decoration-color: #00af00\">50</span>, <span style=\"color: #00af00; text-decoration-color: #00af00\">128</span>)   │  <span style=\"color: #00af00; text-decoration-color: #00af00\">5,350,656</span> │ emotion_input[<span style=\"color: #00af00; text-decoration-color: #00af00\">0</span>]… │\n",
       "│ (<span style=\"color: #0087ff; text-decoration-color: #0087ff\">Embedding</span>)         │                   │            │ violence_input[<span style=\"color: #00af00; text-decoration-color: #00af00\">0</span>… │\n",
       "│                     │                   │            │ hate_input[<span style=\"color: #00af00; text-decoration-color: #00af00\">0</span>][<span style=\"color: #00af00; text-decoration-color: #00af00\">0</span>]  │\n",
       "├─────────────────────┼───────────────────┼────────────┼───────────────────┤\n",
       "│ lstm_2 (<span style=\"color: #0087ff; text-decoration-color: #0087ff\">LSTM</span>)       │ (<span style=\"color: #00d7ff; text-decoration-color: #00d7ff\">None</span>, <span style=\"color: #00af00; text-decoration-color: #00af00\">50</span>, <span style=\"color: #00af00; text-decoration-color: #00af00\">64</span>)    │     <span style=\"color: #00af00; text-decoration-color: #00af00\">49,408</span> │ embedding_2[<span style=\"color: #00af00; text-decoration-color: #00af00\">0</span>][<span style=\"color: #00af00; text-decoration-color: #00af00\">0</span>… │\n",
       "│                     │                   │            │ embedding_2[<span style=\"color: #00af00; text-decoration-color: #00af00\">1</span>][<span style=\"color: #00af00; text-decoration-color: #00af00\">0</span>… │\n",
       "│                     │                   │            │ embedding_2[<span style=\"color: #00af00; text-decoration-color: #00af00\">2</span>][<span style=\"color: #00af00; text-decoration-color: #00af00\">0</span>] │\n",
       "├─────────────────────┼───────────────────┼────────────┼───────────────────┤\n",
       "│ global_average_poo… │ (<span style=\"color: #00d7ff; text-decoration-color: #00d7ff\">None</span>, <span style=\"color: #00af00; text-decoration-color: #00af00\">64</span>)        │          <span style=\"color: #00af00; text-decoration-color: #00af00\">0</span> │ lstm_2[<span style=\"color: #00af00; text-decoration-color: #00af00\">0</span>][<span style=\"color: #00af00; text-decoration-color: #00af00\">0</span>],     │\n",
       "│ (<span style=\"color: #0087ff; text-decoration-color: #0087ff\">GlobalAveragePool…</span> │                   │            │ lstm_2[<span style=\"color: #00af00; text-decoration-color: #00af00\">1</span>][<span style=\"color: #00af00; text-decoration-color: #00af00\">0</span>],     │\n",
       "│                     │                   │            │ lstm_2[<span style=\"color: #00af00; text-decoration-color: #00af00\">2</span>][<span style=\"color: #00af00; text-decoration-color: #00af00\">0</span>]      │\n",
       "├─────────────────────┼───────────────────┼────────────┼───────────────────┤\n",
       "│ dropout_3 (<span style=\"color: #0087ff; text-decoration-color: #0087ff\">Dropout</span>) │ (<span style=\"color: #00d7ff; text-decoration-color: #00d7ff\">None</span>, <span style=\"color: #00af00; text-decoration-color: #00af00\">64</span>)        │          <span style=\"color: #00af00; text-decoration-color: #00af00\">0</span> │ global_average_p… │\n",
       "│                     │                   │            │ global_average_p… │\n",
       "│                     │                   │            │ global_average_p… │\n",
       "├─────────────────────┼───────────────────┼────────────┼───────────────────┤\n",
       "│ emotion_output      │ (<span style=\"color: #00d7ff; text-decoration-color: #00d7ff\">None</span>, <span style=\"color: #00af00; text-decoration-color: #00af00\">6</span>)         │        <span style=\"color: #00af00; text-decoration-color: #00af00\">390</span> │ dropout_3[<span style=\"color: #00af00; text-decoration-color: #00af00\">0</span>][<span style=\"color: #00af00; text-decoration-color: #00af00\">0</span>]   │\n",
       "│ (<span style=\"color: #0087ff; text-decoration-color: #0087ff\">Dense</span>)             │                   │            │                   │\n",
       "├─────────────────────┼───────────────────┼────────────┼───────────────────┤\n",
       "│ violence_output     │ (<span style=\"color: #00d7ff; text-decoration-color: #00d7ff\">None</span>, <span style=\"color: #00af00; text-decoration-color: #00af00\">5</span>)         │        <span style=\"color: #00af00; text-decoration-color: #00af00\">325</span> │ dropout_3[<span style=\"color: #00af00; text-decoration-color: #00af00\">1</span>][<span style=\"color: #00af00; text-decoration-color: #00af00\">0</span>]   │\n",
       "│ (<span style=\"color: #0087ff; text-decoration-color: #0087ff\">Dense</span>)             │                   │            │                   │\n",
       "├─────────────────────┼───────────────────┼────────────┼───────────────────┤\n",
       "│ hate_output (<span style=\"color: #0087ff; text-decoration-color: #0087ff\">Dense</span>) │ (<span style=\"color: #00d7ff; text-decoration-color: #00d7ff\">None</span>, <span style=\"color: #00af00; text-decoration-color: #00af00\">3</span>)         │        <span style=\"color: #00af00; text-decoration-color: #00af00\">195</span> │ dropout_3[<span style=\"color: #00af00; text-decoration-color: #00af00\">2</span>][<span style=\"color: #00af00; text-decoration-color: #00af00\">0</span>]   │\n",
       "└─────────────────────┴───────────────────┴────────────┴───────────────────┘\n",
       "</pre>\n"
      ],
      "text/plain": [
       "┏━━━━━━━━━━━━━━━━━━━━━┳━━━━━━━━━━━━━━━━━━━┳━━━━━━━━━━━━┳━━━━━━━━━━━━━━━━━━━┓\n",
       "┃\u001b[1m \u001b[0m\u001b[1mLayer (type)       \u001b[0m\u001b[1m \u001b[0m┃\u001b[1m \u001b[0m\u001b[1mOutput Shape     \u001b[0m\u001b[1m \u001b[0m┃\u001b[1m \u001b[0m\u001b[1m   Param #\u001b[0m\u001b[1m \u001b[0m┃\u001b[1m \u001b[0m\u001b[1mConnected to     \u001b[0m\u001b[1m \u001b[0m┃\n",
       "┡━━━━━━━━━━━━━━━━━━━━━╇━━━━━━━━━━━━━━━━━━━╇━━━━━━━━━━━━╇━━━━━━━━━━━━━━━━━━━┩\n",
       "│ emotion_input       │ (\u001b[38;5;45mNone\u001b[0m, \u001b[38;5;34m50\u001b[0m)        │          \u001b[38;5;34m0\u001b[0m │ -                 │\n",
       "│ (\u001b[38;5;33mInputLayer\u001b[0m)        │                   │            │                   │\n",
       "├─────────────────────┼───────────────────┼────────────┼───────────────────┤\n",
       "│ violence_input      │ (\u001b[38;5;45mNone\u001b[0m, \u001b[38;5;34m50\u001b[0m)        │          \u001b[38;5;34m0\u001b[0m │ -                 │\n",
       "│ (\u001b[38;5;33mInputLayer\u001b[0m)        │                   │            │                   │\n",
       "├─────────────────────┼───────────────────┼────────────┼───────────────────┤\n",
       "│ hate_input          │ (\u001b[38;5;45mNone\u001b[0m, \u001b[38;5;34m50\u001b[0m)        │          \u001b[38;5;34m0\u001b[0m │ -                 │\n",
       "│ (\u001b[38;5;33mInputLayer\u001b[0m)        │                   │            │                   │\n",
       "├─────────────────────┼───────────────────┼────────────┼───────────────────┤\n",
       "│ embedding_2         │ (\u001b[38;5;45mNone\u001b[0m, \u001b[38;5;34m50\u001b[0m, \u001b[38;5;34m128\u001b[0m)   │  \u001b[38;5;34m5,350,656\u001b[0m │ emotion_input[\u001b[38;5;34m0\u001b[0m]… │\n",
       "│ (\u001b[38;5;33mEmbedding\u001b[0m)         │                   │            │ violence_input[\u001b[38;5;34m0\u001b[0m… │\n",
       "│                     │                   │            │ hate_input[\u001b[38;5;34m0\u001b[0m][\u001b[38;5;34m0\u001b[0m]  │\n",
       "├─────────────────────┼───────────────────┼────────────┼───────────────────┤\n",
       "│ lstm_2 (\u001b[38;5;33mLSTM\u001b[0m)       │ (\u001b[38;5;45mNone\u001b[0m, \u001b[38;5;34m50\u001b[0m, \u001b[38;5;34m64\u001b[0m)    │     \u001b[38;5;34m49,408\u001b[0m │ embedding_2[\u001b[38;5;34m0\u001b[0m][\u001b[38;5;34m0\u001b[0m… │\n",
       "│                     │                   │            │ embedding_2[\u001b[38;5;34m1\u001b[0m][\u001b[38;5;34m0\u001b[0m… │\n",
       "│                     │                   │            │ embedding_2[\u001b[38;5;34m2\u001b[0m][\u001b[38;5;34m0\u001b[0m] │\n",
       "├─────────────────────┼───────────────────┼────────────┼───────────────────┤\n",
       "│ global_average_poo… │ (\u001b[38;5;45mNone\u001b[0m, \u001b[38;5;34m64\u001b[0m)        │          \u001b[38;5;34m0\u001b[0m │ lstm_2[\u001b[38;5;34m0\u001b[0m][\u001b[38;5;34m0\u001b[0m],     │\n",
       "│ (\u001b[38;5;33mGlobalAveragePool…\u001b[0m │                   │            │ lstm_2[\u001b[38;5;34m1\u001b[0m][\u001b[38;5;34m0\u001b[0m],     │\n",
       "│                     │                   │            │ lstm_2[\u001b[38;5;34m2\u001b[0m][\u001b[38;5;34m0\u001b[0m]      │\n",
       "├─────────────────────┼───────────────────┼────────────┼───────────────────┤\n",
       "│ dropout_3 (\u001b[38;5;33mDropout\u001b[0m) │ (\u001b[38;5;45mNone\u001b[0m, \u001b[38;5;34m64\u001b[0m)        │          \u001b[38;5;34m0\u001b[0m │ global_average_p… │\n",
       "│                     │                   │            │ global_average_p… │\n",
       "│                     │                   │            │ global_average_p… │\n",
       "├─────────────────────┼───────────────────┼────────────┼───────────────────┤\n",
       "│ emotion_output      │ (\u001b[38;5;45mNone\u001b[0m, \u001b[38;5;34m6\u001b[0m)         │        \u001b[38;5;34m390\u001b[0m │ dropout_3[\u001b[38;5;34m0\u001b[0m][\u001b[38;5;34m0\u001b[0m]   │\n",
       "│ (\u001b[38;5;33mDense\u001b[0m)             │                   │            │                   │\n",
       "├─────────────────────┼───────────────────┼────────────┼───────────────────┤\n",
       "│ violence_output     │ (\u001b[38;5;45mNone\u001b[0m, \u001b[38;5;34m5\u001b[0m)         │        \u001b[38;5;34m325\u001b[0m │ dropout_3[\u001b[38;5;34m1\u001b[0m][\u001b[38;5;34m0\u001b[0m]   │\n",
       "│ (\u001b[38;5;33mDense\u001b[0m)             │                   │            │                   │\n",
       "├─────────────────────┼───────────────────┼────────────┼───────────────────┤\n",
       "│ hate_output (\u001b[38;5;33mDense\u001b[0m) │ (\u001b[38;5;45mNone\u001b[0m, \u001b[38;5;34m3\u001b[0m)         │        \u001b[38;5;34m195\u001b[0m │ dropout_3[\u001b[38;5;34m2\u001b[0m][\u001b[38;5;34m0\u001b[0m]   │\n",
       "└─────────────────────┴───────────────────┴────────────┴───────────────────┘\n"
      ]
     },
     "metadata": {},
     "output_type": "display_data"
    },
    {
     "data": {
      "text/html": [
       "<pre style=\"white-space:pre;overflow-x:auto;line-height:normal;font-family:Menlo,'DejaVu Sans Mono',consolas,'Courier New',monospace\"><span style=\"font-weight: bold\"> Total params: </span><span style=\"color: #00af00; text-decoration-color: #00af00\">5,400,974</span> (20.60 MB)\n",
       "</pre>\n"
      ],
      "text/plain": [
       "\u001b[1m Total params: \u001b[0m\u001b[38;5;34m5,400,974\u001b[0m (20.60 MB)\n"
      ]
     },
     "metadata": {},
     "output_type": "display_data"
    },
    {
     "data": {
      "text/html": [
       "<pre style=\"white-space:pre;overflow-x:auto;line-height:normal;font-family:Menlo,'DejaVu Sans Mono',consolas,'Courier New',monospace\"><span style=\"font-weight: bold\"> Trainable params: </span><span style=\"color: #00af00; text-decoration-color: #00af00\">5,400,974</span> (20.60 MB)\n",
       "</pre>\n"
      ],
      "text/plain": [
       "\u001b[1m Trainable params: \u001b[0m\u001b[38;5;34m5,400,974\u001b[0m (20.60 MB)\n"
      ]
     },
     "metadata": {},
     "output_type": "display_data"
    },
    {
     "data": {
      "text/html": [
       "<pre style=\"white-space:pre;overflow-x:auto;line-height:normal;font-family:Menlo,'DejaVu Sans Mono',consolas,'Courier New',monospace\"><span style=\"font-weight: bold\"> Non-trainable params: </span><span style=\"color: #00af00; text-decoration-color: #00af00\">0</span> (0.00 B)\n",
       "</pre>\n"
      ],
      "text/plain": [
       "\u001b[1m Non-trainable params: \u001b[0m\u001b[38;5;34m0\u001b[0m (0.00 B)\n"
      ]
     },
     "metadata": {},
     "output_type": "display_data"
    }
   ],
   "source": [
    "model.summary()"
   ]
  },
  {
   "cell_type": "code",
   "execution_count": 228,
   "id": "cf831efa-624e-494b-9325-726c85339113",
   "metadata": {},
   "outputs": [
    {
     "name": "stdout",
     "output_type": "stream",
     "text": [
      "Epoch 1/10\n",
      "\u001b[1m3000/3000\u001b[0m \u001b[32m━━━━━━━━━━━━━━━━━━━━\u001b[0m\u001b[37m\u001b[0m \u001b[1m194s\u001b[0m 63ms/step - emotion_output_accuracy: 0.1975 - emotion_output_loss: 1.7943 - hate_output_accuracy: 0.6827 - hate_output_loss: 0.7640 - loss: 2.9970 - violence_output_accuracy: 0.8443 - violence_output_loss: 0.4388\n",
      "Epoch 2/10\n",
      "\u001b[1m3000/3000\u001b[0m \u001b[32m━━━━━━━━━━━━━━━━━━━━\u001b[0m\u001b[37m\u001b[0m \u001b[1m199s\u001b[0m 66ms/step - emotion_output_accuracy: 0.6963 - emotion_output_loss: 0.8468 - hate_output_accuracy: 0.8775 - hate_output_loss: 0.3734 - loss: 1.2994 - violence_output_accuracy: 0.9745 - violence_output_loss: 0.0792\n",
      "Epoch 3/10\n",
      "\u001b[1m3000/3000\u001b[0m \u001b[32m━━━━━━━━━━━━━━━━━━━━\u001b[0m\u001b[37m\u001b[0m \u001b[1m204s\u001b[0m 68ms/step - emotion_output_accuracy: 0.9319 - emotion_output_loss: 0.2255 - hate_output_accuracy: 0.9143 - hate_output_loss: 0.2304 - loss: 0.4683 - violence_output_accuracy: 0.9978 - violence_output_loss: 0.0124\n",
      "Epoch 4/10\n",
      "\u001b[1m3000/3000\u001b[0m \u001b[32m━━━━━━━━━━━━━━━━━━━━\u001b[0m\u001b[37m\u001b[0m \u001b[1m200s\u001b[0m 67ms/step - emotion_output_accuracy: 0.9592 - emotion_output_loss: 0.1282 - hate_output_accuracy: 0.9664 - hate_output_loss: 0.1034 - loss: 0.2391 - violence_output_accuracy: 0.9988 - violence_output_loss: 0.0075\n",
      "Epoch 5/10\n",
      "\u001b[1m3000/3000\u001b[0m \u001b[32m━━━━━━━━━━━━━━━━━━━━\u001b[0m\u001b[37m\u001b[0m \u001b[1m209s\u001b[0m 70ms/step - emotion_output_accuracy: 0.9752 - emotion_output_loss: 0.0806 - hate_output_accuracy: 0.9804 - hate_output_loss: 0.0584 - loss: 0.1421 - violence_output_accuracy: 0.9991 - violence_output_loss: 0.0031\n",
      "Epoch 6/10\n",
      "\u001b[1m3000/3000\u001b[0m \u001b[32m━━━━━━━━━━━━━━━━━━━━\u001b[0m\u001b[37m\u001b[0m \u001b[1m213s\u001b[0m 71ms/step - emotion_output_accuracy: 0.9779 - emotion_output_loss: 0.0703 - hate_output_accuracy: 0.9877 - hate_output_loss: 0.0365 - loss: 0.1079 - violence_output_accuracy: 0.9998 - violence_output_loss: 0.0012\n",
      "Epoch 7/10\n",
      "\u001b[1m3000/3000\u001b[0m \u001b[32m━━━━━━━━━━━━━━━━━━━━\u001b[0m\u001b[37m\u001b[0m \u001b[1m209s\u001b[0m 70ms/step - emotion_output_accuracy: 0.9835 - emotion_output_loss: 0.0482 - hate_output_accuracy: 0.9944 - hate_output_loss: 0.0165 - loss: 0.0669 - violence_output_accuracy: 0.9993 - violence_output_loss: 0.0022\n",
      "Epoch 8/10\n",
      "\u001b[1m3000/3000\u001b[0m \u001b[32m━━━━━━━━━━━━━━━━━━━━\u001b[0m\u001b[37m\u001b[0m \u001b[1m201s\u001b[0m 67ms/step - emotion_output_accuracy: 0.9836 - emotion_output_loss: 0.0425 - hate_output_accuracy: 0.9957 - hate_output_loss: 0.0126 - loss: 0.0556 - violence_output_accuracy: 0.9999 - violence_output_loss: 4.9175e-04\n",
      "Epoch 9/10\n",
      "\u001b[1m3000/3000\u001b[0m \u001b[32m━━━━━━━━━━━━━━━━━━━━\u001b[0m\u001b[37m\u001b[0m \u001b[1m212s\u001b[0m 71ms/step - emotion_output_accuracy: 0.9903 - emotion_output_loss: 0.0272 - hate_output_accuracy: 0.9961 - hate_output_loss: 0.0096 - loss: 0.0376 - violence_output_accuracy: 0.9999 - violence_output_loss: 7.8462e-04\n",
      "Epoch 10/10\n",
      "\u001b[1m3000/3000\u001b[0m \u001b[32m━━━━━━━━━━━━━━━━━━━━\u001b[0m\u001b[37m\u001b[0m \u001b[1m212s\u001b[0m 71ms/step - emotion_output_accuracy: 0.9882 - emotion_output_loss: 0.0334 - hate_output_accuracy: 0.9959 - hate_output_loss: 0.0100 - loss: 0.0446 - violence_output_accuracy: 0.9999 - violence_output_loss: 0.0013\n"
     ]
    },
    {
     "data": {
      "text/plain": [
       "<keras.src.callbacks.history.History at 0x1d5504b1be0>"
      ]
     },
     "execution_count": 228,
     "metadata": {},
     "output_type": "execute_result"
    }
   ],
   "source": [
    "model.fit(x={'emotion_input':emotion_input,\n",
    "            'violence_input':violence_input,\n",
    "            'hate_input':hate_input\n",
    "            },\n",
    "         y={'emotion_output':emotion_labels,\n",
    "           'violence_output':violence_labels,\n",
    "           'hate_output':hate_labels\n",
    "           },\n",
    "         epochs=10,\n",
    "         batch_size=4\n",
    "         )"
   ]
  },
  {
   "cell_type": "code",
   "execution_count": 230,
   "id": "5646e761-9a4e-4dbd-8352-2c8d85db9af9",
   "metadata": {},
   "outputs": [
    {
     "name": "stdout",
     "output_type": "stream",
     "text": [
      "\u001b[1m375/375\u001b[0m \u001b[32m━━━━━━━━━━━━━━━━━━━━\u001b[0m\u001b[37m\u001b[0m \u001b[1m5s\u001b[0m 11ms/step\n"
     ]
    }
   ],
   "source": [
    "prediction=model.predict({'emotion_input':emotion_input,\n",
    "                         'violence_input':violence_input,\n",
    "                         'hate_input':hate_input})"
   ]
  },
  {
   "cell_type": "code",
   "execution_count": 232,
   "id": "52e1591f-a66e-4a4a-9649-c7214225dc98",
   "metadata": {},
   "outputs": [
    {
     "data": {
      "text/plain": [
       "[array([[9.9997461e-01, 7.1458512e-06, 2.7710402e-07, 1.3411741e-05,\n",
       "         4.4853241e-06, 2.6506148e-08],\n",
       "        [9.9999845e-01, 7.1565415e-07, 9.2035988e-09, 7.5285618e-07,\n",
       "         1.5251170e-07, 3.9556332e-09],\n",
       "        [9.9999332e-01, 9.3740380e-07, 3.1392279e-08, 5.0382782e-06,\n",
       "         7.0067506e-07, 7.1368347e-09],\n",
       "        ...,\n",
       "        [4.1610125e-05, 3.8770126e-04, 2.3019214e-05, 3.3167636e-04,\n",
       "         2.9012118e-03, 9.9631482e-01],\n",
       "        [3.3427619e-07, 3.1376942e-06, 3.4499487e-07, 4.5275488e-06,\n",
       "         1.3194171e-05, 9.9997854e-01],\n",
       "        [1.2097555e-04, 9.7015429e-05, 6.4460815e-05, 5.2068610e-04,\n",
       "         1.0175481e-03, 9.9817932e-01]], dtype=float32),\n",
       " array([[1.0958937e-11, 1.0000000e+00, 9.0142699e-11, 1.3350832e-12,\n",
       "         2.4909129e-11],\n",
       "        [3.2965693e-07, 9.9999762e-01, 9.5676697e-08, 7.5601527e-08,\n",
       "         1.8839052e-06],\n",
       "        [2.2385253e-10, 1.0000000e+00, 1.1851934e-09, 6.7595186e-11,\n",
       "         2.6485567e-10],\n",
       "        ...,\n",
       "        [5.1863875e-08, 3.4691345e-07, 5.6126588e-08, 1.4435631e-08,\n",
       "         9.9999964e-01],\n",
       "        [2.8599809e-09, 2.7964964e-09, 4.8387743e-09, 2.9517555e-10,\n",
       "         1.0000000e+00],\n",
       "        [4.4709136e-08, 3.7091340e-08, 2.5955389e-08, 3.5699166e-09,\n",
       "         1.0000000e+00]], dtype=float32),\n",
       " array([[3.0369940e-05, 9.9996698e-01, 2.6880998e-06],\n",
       "        [1.8895651e-03, 9.9810874e-01, 1.6549086e-06],\n",
       "        [6.1053957e-05, 9.9993789e-01, 9.9167460e-07],\n",
       "        ...,\n",
       "        [9.9991083e-01, 8.2983162e-05, 6.2323602e-06],\n",
       "        [1.7926826e-05, 1.4311862e-02, 9.8567015e-01],\n",
       "        [6.4712503e-07, 1.0488219e-06, 9.9999833e-01]], dtype=float32)]"
      ]
     },
     "execution_count": 232,
     "metadata": {},
     "output_type": "execute_result"
    }
   ],
   "source": [
    "prediction"
   ]
  },
  {
   "cell_type": "code",
   "execution_count": 236,
   "id": "6a53f73f-72d1-4943-be52-ca1eeb7babb7",
   "metadata": {},
   "outputs": [],
   "source": [
    "emotion_pred=np.argmax(prediction[0],axis=1)\n",
    "violence_pred=np.argmax(prediction[1],axis=1)\n",
    "hate_pred=np.argmax(prediction[2],axis=1)"
   ]
  },
  {
   "cell_type": "code",
   "execution_count": null,
   "id": "3b2fc898-3e05-420b-a72c-fb3e73c18936",
   "metadata": {},
   "outputs": [],
   "source": []
  },
  {
   "cell_type": "code",
   "execution_count": null,
   "id": "1aa84c94-0d44-4999-80fa-bb340158259c",
   "metadata": {},
   "outputs": [],
   "source": []
  }
 ],
 "metadata": {
  "kernelspec": {
   "display_name": "Python 3 (ipykernel)",
   "language": "python",
   "name": "python3"
  },
  "language_info": {
   "codemirror_mode": {
    "name": "ipython",
    "version": 3
   },
   "file_extension": ".py",
   "mimetype": "text/x-python",
   "name": "python",
   "nbconvert_exporter": "python",
   "pygments_lexer": "ipython3",
   "version": "3.12.4"
  }
 },
 "nbformat": 4,
 "nbformat_minor": 5
}
